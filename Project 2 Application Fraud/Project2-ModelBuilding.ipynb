{
 "cells": [
  {
   "cell_type": "code",
   "execution_count": 1,
   "id": "meaning-bibliography",
   "metadata": {},
   "outputs": [],
   "source": [
    "import pandas as pd\n",
    "from sklearn.model_selection import train_test_split\n",
    "from imblearn.over_sampling import SMOTE\n",
    "from imblearn.under_sampling import RandomUnderSampler\n",
    "from sklearn.preprocessing import MinMaxScaler\n",
    "from sklearn.ensemble import RandomForestClassifier\n",
    "from sklearn.linear_model import LogisticRegression\n",
    "from xgboost import XGBClassifier\n",
    "from keras.metrics import AUC\n",
    "from keras.models import Sequential\n",
    "from keras.layers import Dense"
   ]
  },
  {
   "cell_type": "code",
   "execution_count": 2,
   "id": "intense-maryland",
   "metadata": {},
   "outputs": [],
   "source": [
    "# Function that finds the FDR at 3%\n",
    "def findFDR(y_label, y_pred):\n",
    "    data = pd.DataFrame({'Actual':y_label, 'PredictedProb':y_pred})\n",
    "    topRows = int(round(len(data)*0.03))\n",
    "    temp0 = data.sort_values('PredictedProb',ascending=False)\n",
    "    temp1 = temp0.head(topRows)\n",
    "    numbads = sum(temp0.loc[:, 'Actual'])\n",
    "    needed1 = temp1.loc[:,'Actual']\n",
    "    FDR1 = sum(needed1)/numbads * 100\n",
    "    print('FDR at 3% rate: ', round(FDR1, 2))"
   ]
  },
  {
   "cell_type": "code",
   "execution_count": 3,
   "id": "diagnostic-population",
   "metadata": {},
   "outputs": [],
   "source": [
    "data = pd.read_csv('application data.csv', parse_dates = ['date'])"
   ]
  },
  {
   "cell_type": "code",
   "execution_count": 4,
   "id": "distant-birmingham",
   "metadata": {},
   "outputs": [],
   "source": [
    "# Sets OOT data\n",
    "oot = data.loc[data['date'] > '2016-10-31']\n",
    "traintest = data.loc[data['date'] <= '2016-10-31']\n",
    "X = traintest.drop('date', axis = 1)\n",
    "X = X.drop('fraud_label', axis = 1)\n",
    "y = traintest['fraud_label']\n",
    "ootX = oot.drop('date', axis = 1)\n",
    "ootX = ootX.drop('fraud_label', axis = 1)\n",
    "ootY = oot['fraud_label']"
   ]
  },
  {
   "cell_type": "code",
   "execution_count": 5,
   "id": "prerequisite-wilderness",
   "metadata": {},
   "outputs": [],
   "source": [
    "# Normalizes (z-scale) the paratio and rm values\n",
    "mms = MinMaxScaler()\n",
    "\n",
    "X = mms.fit_transform(X)\n",
    "ootX = mms.fit_transform(ootX)"
   ]
  },
  {
   "cell_type": "markdown",
   "id": "combined-niagara",
   "metadata": {},
   "source": [
    "# Sampling Data"
   ]
  },
  {
   "cell_type": "code",
   "execution_count": 6,
   "id": "encouraging-breathing",
   "metadata": {},
   "outputs": [],
   "source": [
    "# Splits data into 75/25 train test split\n",
    "X_train, X_test, y_train, y_test = train_test_split(X, y, test_size=0.25)"
   ]
  },
  {
   "cell_type": "code",
   "execution_count": 7,
   "id": "dense-parade",
   "metadata": {},
   "outputs": [],
   "source": [
    "# Creates different undersampling ratios\n",
    "rus = RandomUnderSampler(sampling_strategy = 1)\n",
    "X_train_under50, y_train_under50 = rus.fit_sample(X_train, y_train)\n",
    "\n",
    "rus = RandomUnderSampler(sampling_strategy = (2/3))\n",
    "X_train_under40, y_train_under40 = rus.fit_sample(X_train, y_train)\n",
    "\n",
    "rus = RandomUnderSampler(sampling_strategy = (3/7))\n",
    "X_train_under30, y_train_under30 = rus.fit_sample(X_train, y_train)"
   ]
  },
  {
   "cell_type": "code",
   "execution_count": 8,
   "id": "fifth-occurrence",
   "metadata": {},
   "outputs": [],
   "source": [
    "# Creates different oversampling ratios\n",
    "oversample = SMOTE(sampling_strategy = 1)\n",
    "X_train_over50, y_train_over50 = oversample.fit_resample(X_train, y_train)\n",
    "\n",
    "oversample = SMOTE(sampling_strategy = (2/3))\n",
    "X_train_over40, y_train_over40 = oversample.fit_resample(X_train, y_train)\n",
    "\n",
    "oversample = SMOTE(sampling_strategy = (3/7))\n",
    "X_train_over30, y_train_over30 = oversample.fit_resample(X_train, y_train)"
   ]
  },
  {
   "cell_type": "markdown",
   "id": "olive-batman",
   "metadata": {},
   "source": [
    "# Logistic Regression"
   ]
  },
  {
   "cell_type": "code",
   "execution_count": 14,
   "id": "eastern-vertical",
   "metadata": {},
   "outputs": [
    {
     "name": "stderr",
     "output_type": "stream",
     "text": [
      "/Users/kpainton/opt/anaconda3/lib/python3.7/site-packages/sklearn/linear_model/_logistic.py:764: ConvergenceWarning: lbfgs failed to converge (status=1):\n",
      "STOP: TOTAL NO. of ITERATIONS REACHED LIMIT.\n",
      "\n",
      "Increase the number of iterations (max_iter) or scale the data as shown in:\n",
      "    https://scikit-learn.org/stable/modules/preprocessing.html\n",
      "Please also refer to the documentation for alternative solver options:\n",
      "    https://scikit-learn.org/stable/modules/linear_model.html#logistic-regression\n",
      "  extra_warning_msg=_LOGISTIC_SOLVER_CONVERGENCE_MSG)\n"
     ]
    }
   ],
   "source": [
    "model = LogisticRegression().fit(X_train, y_train)"
   ]
  },
  {
   "cell_type": "code",
   "execution_count": 15,
   "id": "marked-layout",
   "metadata": {},
   "outputs": [
    {
     "name": "stdout",
     "output_type": "stream",
     "text": [
      "FDR at 3% rate:  52.61\n"
     ]
    }
   ],
   "source": [
    "y_pred = model.predict_proba(X_train)\n",
    "findFDR(y_train, y_pred[:,1])"
   ]
  },
  {
   "cell_type": "code",
   "execution_count": 16,
   "id": "binding-senior",
   "metadata": {},
   "outputs": [
    {
     "name": "stdout",
     "output_type": "stream",
     "text": [
      "FDR at 3% rate:  52.23\n"
     ]
    }
   ],
   "source": [
    "y_pred = model.predict_proba(X_test)\n",
    "findFDR(y_test, y_pred[:,1])"
   ]
  },
  {
   "cell_type": "code",
   "execution_count": 17,
   "id": "optical-sodium",
   "metadata": {},
   "outputs": [
    {
     "name": "stdout",
     "output_type": "stream",
     "text": [
      "FDR at 3% rate:  50.29\n"
     ]
    }
   ],
   "source": [
    "y_pred = model.predict_proba(ootX)\n",
    "findFDR(ootY, y_pred[:,1])"
   ]
  },
  {
   "cell_type": "markdown",
   "id": "infinite-egypt",
   "metadata": {},
   "source": [
    "# Neural Networks"
   ]
  },
  {
   "cell_type": "code",
   "execution_count": 26,
   "id": "descending-reading",
   "metadata": {},
   "outputs": [],
   "source": [
    "# Defines a simple Neural Network model function \n",
    "def runNN(X, y, nodes, optimizer, epochs):\n",
    "    # first neural network with keras make predictions\n",
    "\n",
    "    # define the keras model\n",
    "    model = Sequential()\n",
    "    model.add(Dense(nodes, input_dim=30, activation='relu'))\n",
    "    model.add(Dense(1, activation='sigmoid'))\n",
    "\n",
    "    # compile the keras model\n",
    "    model.compile(loss='binary_crossentropy', optimizer=optimizer, metrics=[AUC()])\n",
    "\n",
    "    # fit the keras model on the dataset\n",
    "    model.fit(X, y, epochs=epochs, batch_size=10)\n",
    "\n",
    "    y_pred = model.predict(X_train)\n",
    "    print('Train')\n",
    "    findFDR(y_train, y_pred.reshape(-1))\n",
    "\n",
    "    y_pred = model.predict(X_test)\n",
    "    print('Test')\n",
    "    findFDR(y_test, y_pred.reshape(-1))\n",
    "\n",
    "    y_pred = model.predict(ootX)\n",
    "    print('OOT')\n",
    "    findFDR(ootY, y_pred.reshape(-1))"
   ]
  },
  {
   "cell_type": "code",
   "execution_count": null,
   "id": "responsible-suggestion",
   "metadata": {},
   "outputs": [],
   "source": [
    "data.columns"
   ]
  },
  {
   "cell_type": "code",
   "execution_count": 39,
   "id": "stunning-pattern",
   "metadata": {},
   "outputs": [
    {
     "name": "stdout",
     "output_type": "stream",
     "text": [
      "Epoch 1/20\n",
      "88019/88019 [==============================] - 45s 506us/step - loss: 0.4263 - auc_5: 0.7673\n",
      "Epoch 2/20\n",
      "88019/88019 [==============================] - 44s 498us/step - loss: 0.4060 - auc_5: 0.7711\n",
      "Epoch 3/20\n",
      "88019/88019 [==============================] - 44s 500us/step - loss: 0.4029 - auc_5: 0.7720\n",
      "Epoch 4/20\n",
      "88019/88019 [==============================] - 43s 488us/step - loss: 0.4014 - auc_5: 0.7714\n",
      "Epoch 5/20\n",
      "88019/88019 [==============================] - 43s 489us/step - loss: 0.4002 - auc_5: 0.7724\n",
      "Epoch 6/20\n",
      "88019/88019 [==============================] - 43s 488us/step - loss: 0.3997 - auc_5: 0.7722\n",
      "Epoch 7/20\n",
      "88019/88019 [==============================] - 43s 489us/step - loss: 0.3994 - auc_5: 0.7725\n",
      "Epoch 8/20\n",
      "88019/88019 [==============================] - 43s 488us/step - loss: 0.3992 - auc_5: 0.7721\n",
      "Epoch 9/20\n",
      "88019/88019 [==============================] - 43s 489us/step - loss: 0.3989 - auc_5: 0.7720\n",
      "Epoch 10/20\n",
      "88019/88019 [==============================] - 43s 489us/step - loss: 0.3987 - auc_5: 0.7730\n",
      "Epoch 11/20\n",
      "88019/88019 [==============================] - 43s 489us/step - loss: 0.3986 - auc_5: 0.7729\n",
      "Epoch 12/20\n",
      "88019/88019 [==============================] - 43s 489us/step - loss: 0.3984 - auc_5: 0.7732\n",
      "Epoch 13/20\n",
      "88019/88019 [==============================] - 43s 489us/step - loss: 0.3984 - auc_5: 0.7729\n",
      "Epoch 14/20\n",
      "88019/88019 [==============================] - 43s 490us/step - loss: 0.3983 - auc_5: 0.7727\n",
      "Epoch 15/20\n",
      "88019/88019 [==============================] - 43s 491us/step - loss: 0.3983 - auc_5: 0.7725\n",
      "Epoch 16/20\n",
      "88019/88019 [==============================] - 43s 492us/step - loss: 0.3981 - auc_5: 0.7731\n",
      "Epoch 17/20\n",
      "88019/88019 [==============================] - 43s 491us/step - loss: 0.3981 - auc_5: 0.7727\n",
      "Epoch 18/20\n",
      "88019/88019 [==============================] - 43s 490us/step - loss: 0.3980 - auc_5: 0.7734\n",
      "Epoch 19/20\n",
      "88019/88019 [==============================] - 43s 491us/step - loss: 0.3979 - auc_5: 0.7734\n",
      "Epoch 20/20\n",
      "88019/88019 [==============================] - 43s 491us/step - loss: 0.3978 - auc_5: 0.7728\n",
      "Train\n",
      "FDR at 3% rate:  54.47\n",
      "Test\n",
      "FDR at 3% rate:  54.01\n",
      "OOT\n",
      "FDR at 3% rate:  52.05\n"
     ]
    }
   ],
   "source": [
    "runNN(X_train_over30, y_train_over30, 10, 'sgd', 20)"
   ]
  },
  {
   "cell_type": "code",
   "execution_count": 40,
   "id": "favorite-manitoba",
   "metadata": {},
   "outputs": [
    {
     "name": "stdout",
     "output_type": "stream",
     "text": [
      "Epoch 1/20\n",
      "88019/88019 [==============================] - 43s 490us/step - loss: 0.4237 - auc_6: 0.7680\n",
      "Epoch 2/20\n",
      "88019/88019 [==============================] - 43s 490us/step - loss: 0.4067 - auc_6: 0.7723\n",
      "Epoch 3/20\n",
      "88019/88019 [==============================] - 43s 490us/step - loss: 0.4036 - auc_6: 0.7727\n",
      "Epoch 4/20\n",
      "88019/88019 [==============================] - 43s 490us/step - loss: 0.4008 - auc_6: 0.7720\n",
      "Epoch 5/20\n",
      "88019/88019 [==============================] - 43s 490us/step - loss: 0.3997 - auc_6: 0.7718\n",
      "Epoch 6/20\n",
      "88019/88019 [==============================] - 43s 490us/step - loss: 0.3992 - auc_6: 0.7720\n",
      "Epoch 7/20\n",
      "88019/88019 [==============================] - 44s 503us/step - loss: 0.3988 - auc_6: 0.7716\n",
      "Epoch 8/20\n",
      "88019/88019 [==============================] - 43s 489us/step - loss: 0.3984 - auc_6: 0.7728\n",
      "Epoch 9/20\n",
      "88019/88019 [==============================] - 43s 485us/step - loss: 0.3982 - auc_6: 0.7725\n",
      "Epoch 10/20\n",
      "88019/88019 [==============================] - 43s 485us/step - loss: 0.3980 - auc_6: 0.7725\n",
      "Epoch 11/20\n",
      "88019/88019 [==============================] - 43s 486us/step - loss: 0.3978 - auc_6: 0.7724\n",
      "Epoch 12/20\n",
      "88019/88019 [==============================] - 43s 485us/step - loss: 0.3976 - auc_6: 0.7724\n",
      "Epoch 13/20\n",
      "88019/88019 [==============================] - 43s 486us/step - loss: 0.3974 - auc_6: 0.7719\n",
      "Epoch 14/20\n",
      "88019/88019 [==============================] - 43s 485us/step - loss: 0.3972 - auc_6: 0.7722\n",
      "Epoch 15/20\n",
      "88019/88019 [==============================] - 43s 486us/step - loss: 0.3969 - auc_6: 0.7726\n",
      "Epoch 16/20\n",
      "88019/88019 [==============================] - 43s 489us/step - loss: 0.3967 - auc_6: 0.7725\n",
      "Epoch 17/20\n",
      "88019/88019 [==============================] - 43s 485us/step - loss: 0.3965 - auc_6: 0.7722\n",
      "Epoch 18/20\n",
      "88019/88019 [==============================] - 43s 484us/step - loss: 0.3962 - auc_6: 0.77290s - loss: 0.3962 - a\n",
      "Epoch 19/20\n",
      "88019/88019 [==============================] - 43s 485us/step - loss: 0.3960 - auc_6: 0.7729\n",
      "Epoch 20/20\n",
      "88019/88019 [==============================] - 43s 485us/step - loss: 0.3958 - auc_6: 0.7729\n",
      "Train\n",
      "FDR at 3% rate:  55.25\n",
      "Test\n",
      "FDR at 3% rate:  54.53\n",
      "OOT\n",
      "FDR at 3% rate:  52.31\n"
     ]
    }
   ],
   "source": [
    "runNN(X_train_over30, y_train_over30, 30, 'sgd', 20)"
   ]
  },
  {
   "cell_type": "code",
   "execution_count": 41,
   "id": "natural-category",
   "metadata": {},
   "outputs": [
    {
     "name": "stdout",
     "output_type": "stream",
     "text": [
      "Epoch 1/30\n",
      "88019/88019 [==============================] - 43s 484us/step - loss: 0.4239 - auc_7: 0.7688\n",
      "Epoch 2/30\n",
      "88019/88019 [==============================] - 43s 485us/step - loss: 0.4078 - auc_7: 0.7718\n",
      "Epoch 3/30\n",
      "88019/88019 [==============================] - 43s 485us/step - loss: 0.4035 - auc_7: 0.7725\n",
      "Epoch 4/30\n",
      "88019/88019 [==============================] - 43s 485us/step - loss: 0.4014 - auc_7: 0.7725\n",
      "Epoch 5/30\n",
      "88019/88019 [==============================] - 43s 485us/step - loss: 0.4004 - auc_7: 0.7722\n",
      "Epoch 6/30\n",
      "88019/88019 [==============================] - 43s 484us/step - loss: 0.3998 - auc_7: 0.7726\n",
      "Epoch 7/30\n",
      "88019/88019 [==============================] - 44s 496us/step - loss: 0.3992 - auc_7: 0.7725\n",
      "Epoch 8/30\n",
      "88019/88019 [==============================] - 43s 491us/step - loss: 0.3989 - auc_7: 0.7726\n",
      "Epoch 9/30\n",
      "88019/88019 [==============================] - 43s 491us/step - loss: 0.3985 - auc_7: 0.7729\n",
      "Epoch 10/30\n",
      "88019/88019 [==============================] - 43s 491us/step - loss: 0.3982 - auc_7: 0.7733\n",
      "Epoch 11/30\n",
      "88019/88019 [==============================] - 43s 491us/step - loss: 0.3978 - auc_7: 0.7732\n",
      "Epoch 12/30\n",
      "88019/88019 [==============================] - 43s 491us/step - loss: 0.3974 - auc_7: 0.7728\n",
      "Epoch 13/30\n",
      "88019/88019 [==============================] - 43s 492us/step - loss: 0.3970 - auc_7: 0.7729\n",
      "Epoch 14/30\n",
      "88019/88019 [==============================] - 43s 492us/step - loss: 0.3966 - auc_7: 0.7735\n",
      "Epoch 15/30\n",
      "88019/88019 [==============================] - 43s 491us/step - loss: 0.3963 - auc_7: 0.7736\n",
      "Epoch 16/30\n",
      "88019/88019 [==============================] - 43s 492us/step - loss: 0.3959 - auc_7: 0.7735\n",
      "Epoch 17/30\n",
      "88019/88019 [==============================] - 43s 492us/step - loss: 0.3956 - auc_7: 0.7731\n",
      "Epoch 18/30\n",
      "88019/88019 [==============================] - 44s 499us/step - loss: 0.3954 - auc_7: 0.7729\n",
      "Epoch 19/30\n",
      "88019/88019 [==============================] - 43s 486us/step - loss: 0.3951 - auc_7: 0.7730\n",
      "Epoch 20/30\n",
      "88019/88019 [==============================] - 43s 488us/step - loss: 0.3949 - auc_7: 0.7736\n",
      "Epoch 21/30\n",
      "88019/88019 [==============================] - 43s 489us/step - loss: 0.3947 - auc_7: 0.7732\n",
      "Epoch 22/30\n",
      "88019/88019 [==============================] - 43s 486us/step - loss: 0.3945 - auc_7: 0.7737\n",
      "Epoch 23/30\n",
      "88019/88019 [==============================] - 43s 486us/step - loss: 0.3944 - auc_7: 0.7737\n",
      "Epoch 24/30\n",
      "88019/88019 [==============================] - 43s 486us/step - loss: 0.3942 - auc_7: 0.7737\n",
      "Epoch 25/30\n",
      "88019/88019 [==============================] - 43s 487us/step - loss: 0.3940 - auc_7: 0.7737\n",
      "Epoch 26/30\n",
      "88019/88019 [==============================] - 43s 486us/step - loss: 0.3938 - auc_7: 0.7733\n",
      "Epoch 27/30\n",
      "88019/88019 [==============================] - 43s 486us/step - loss: 0.3937 - auc_7: 0.7736\n",
      "Epoch 28/30\n",
      "88019/88019 [==============================] - 43s 486us/step - loss: 0.3936 - auc_7: 0.7737\n",
      "Epoch 29/30\n",
      "88019/88019 [==============================] - 43s 487us/step - loss: 0.3934 - auc_7: 0.7736\n",
      "Epoch 30/30\n",
      "88019/88019 [==============================] - 43s 487us/step - loss: 0.3934 - auc_7: 0.7733\n",
      "Train\n",
      "FDR at 3% rate:  55.25\n",
      "Test\n",
      "FDR at 3% rate:  54.53\n",
      "OOT\n",
      "FDR at 3% rate:  52.26\n"
     ]
    }
   ],
   "source": [
    "runNN(X_train_over30, y_train_over30, 30, 'sgd', 30)"
   ]
  },
  {
   "cell_type": "code",
   "execution_count": 42,
   "id": "middle-special",
   "metadata": {},
   "outputs": [
    {
     "name": "stdout",
     "output_type": "stream",
     "text": [
      "Epoch 1/30\n",
      "88019/88019 [==============================] - 47s 535us/step - loss: 0.3964 - auc_8: 0.7727\n",
      "Epoch 2/30\n",
      "88019/88019 [==============================] - 47s 538us/step - loss: 0.3901 - auc_8: 0.7742\n",
      "Epoch 3/30\n",
      "88019/88019 [==============================] - 47s 535us/step - loss: 0.3893 - auc_8: 0.7740\n",
      "Epoch 4/30\n",
      "88019/88019 [==============================] - 47s 535us/step - loss: 0.3889 - auc_8: 0.7741\n",
      "Epoch 5/30\n",
      "88019/88019 [==============================] - 47s 536us/step - loss: 0.3888 - auc_8: 0.7747\n",
      "Epoch 6/30\n",
      "88019/88019 [==============================] - 47s 538us/step - loss: 0.3886 - auc_8: 0.7750\n",
      "Epoch 7/30\n",
      "88019/88019 [==============================] - 50s 563us/step - loss: 0.3885 - auc_8: 0.7752\n",
      "Epoch 8/30\n",
      "88019/88019 [==============================] - 47s 536us/step - loss: 0.3883 - auc_8: 0.7756\n",
      "Epoch 9/30\n",
      "88019/88019 [==============================] - 47s 535us/step - loss: 0.3883 - auc_8: 0.7755\n",
      "Epoch 10/30\n",
      "88019/88019 [==============================] - 47s 535us/step - loss: 0.3883 - auc_8: 0.7754\n",
      "Epoch 11/30\n",
      "88019/88019 [==============================] - 47s 535us/step - loss: 0.3882 - auc_8: 0.7756\n",
      "Epoch 12/30\n",
      "88019/88019 [==============================] - 47s 535us/step - loss: 0.3881 - auc_8: 0.7757\n",
      "Epoch 13/30\n",
      "88019/88019 [==============================] - 47s 535us/step - loss: 0.3880 - auc_8: 0.7756\n",
      "Epoch 14/30\n",
      "88019/88019 [==============================] - 47s 535us/step - loss: 0.3880 - auc_8: 0.7760\n",
      "Epoch 15/30\n",
      "88019/88019 [==============================] - 47s 536us/step - loss: 0.3880 - auc_8: 0.7762\n",
      "Epoch 16/30\n",
      "88019/88019 [==============================] - 47s 535us/step - loss: 0.3880 - auc_8: 0.7760\n",
      "Epoch 17/30\n",
      "88019/88019 [==============================] - 47s 536us/step - loss: 0.3879 - auc_8: 0.7761\n",
      "Epoch 18/30\n",
      "88019/88019 [==============================] - 47s 536us/step - loss: 0.3879 - auc_8: 0.7757\n",
      "Epoch 19/30\n",
      "88019/88019 [==============================] - 47s 535us/step - loss: 0.3879 - auc_8: 0.7764\n",
      "Epoch 20/30\n",
      "88019/88019 [==============================] - 47s 537us/step - loss: 0.3879 - auc_8: 0.7759\n",
      "Epoch 21/30\n",
      "88019/88019 [==============================] - 47s 536us/step - loss: 0.3878 - auc_8: 0.7758\n",
      "Epoch 22/30\n",
      "88019/88019 [==============================] - 47s 536us/step - loss: 0.3878 - auc_8: 0.7760\n",
      "Epoch 23/30\n",
      "88019/88019 [==============================] - 47s 537us/step - loss: 0.3878 - auc_8: 0.7766\n",
      "Epoch 24/30\n",
      "88019/88019 [==============================] - 47s 537us/step - loss: 0.3878 - auc_8: 0.7763\n",
      "Epoch 25/30\n",
      "88019/88019 [==============================] - 47s 536us/step - loss: 0.3878 - auc_8: 0.7762\n",
      "Epoch 26/30\n",
      "88019/88019 [==============================] - 47s 536us/step - loss: 0.3878 - auc_8: 0.7772\n",
      "Epoch 27/30\n",
      "88019/88019 [==============================] - 48s 544us/step - loss: 0.3878 - auc_8: 0.7765\n",
      "Epoch 28/30\n",
      "88019/88019 [==============================] - 47s 537us/step - loss: 0.3877 - auc_8: 0.7772\n",
      "Epoch 29/30\n",
      "88019/88019 [==============================] - 47s 536us/step - loss: 0.3877 - auc_8: 0.7763\n",
      "Epoch 30/30\n",
      "88019/88019 [==============================] - 47s 537us/step - loss: 0.3878 - auc_8: 0.7760\n",
      "Train\n",
      "FDR at 3% rate:  55.59\n",
      "Test\n",
      "FDR at 3% rate:  54.73\n",
      "OOT\n",
      "FDR at 3% rate:  53.19\n"
     ]
    }
   ],
   "source": [
    "runNN(X_train_over30, y_train_over30, 50, 'adam', 30)"
   ]
  },
  {
   "cell_type": "code",
   "execution_count": 43,
   "id": "exceptional-shade",
   "metadata": {},
   "outputs": [
    {
     "name": "stdout",
     "output_type": "stream",
     "text": [
      "Epoch 1/40\n",
      "88019/88019 [==============================] - 48s 548us/step - loss: 0.3995 - auc_9: 0.7724\n",
      "Epoch 2/40\n",
      "88019/88019 [==============================] - 48s 549us/step - loss: 0.3911 - auc_9: 0.7740\n",
      "Epoch 3/40\n",
      "88019/88019 [==============================] - 48s 549us/step - loss: 0.3893 - auc_9: 0.7747\n",
      "Epoch 4/40\n",
      "88019/88019 [==============================] - 48s 549us/step - loss: 0.3888 - auc_9: 0.7745\n",
      "Epoch 5/40\n",
      "88019/88019 [==============================] - 48s 549us/step - loss: 0.3886 - auc_9: 0.7752\n",
      "Epoch 6/40\n",
      "88019/88019 [==============================] - 48s 548us/step - loss: 0.3884 - auc_9: 0.7759\n",
      "Epoch 7/40\n",
      "88019/88019 [==============================] - 48s 548us/step - loss: 0.3883 - auc_9: 0.7755\n",
      "Epoch 8/40\n",
      "88019/88019 [==============================] - 48s 549us/step - loss: 0.3882 - auc_9: 0.7753\n",
      "Epoch 9/40\n",
      "88019/88019 [==============================] - 48s 549us/step - loss: 0.3882 - auc_9: 0.7751\n",
      "Epoch 10/40\n",
      "88019/88019 [==============================] - 48s 550us/step - loss: 0.3881 - auc_9: 0.7752\n",
      "Epoch 11/40\n",
      "88019/88019 [==============================] - 48s 550us/step - loss: 0.3881 - auc_9: 0.7758\n",
      "Epoch 12/40\n",
      "88019/88019 [==============================] - 48s 549us/step - loss: 0.3881 - auc_9: 0.7761\n",
      "Epoch 13/40\n",
      "88019/88019 [==============================] - 48s 550us/step - loss: 0.3880 - auc_9: 0.7757\n",
      "Epoch 14/40\n",
      "88019/88019 [==============================] - 48s 549us/step - loss: 0.3880 - auc_9: 0.7758\n",
      "Epoch 15/40\n",
      "88019/88019 [==============================] - 49s 552us/step - loss: 0.3879 - auc_9: 0.7764\n",
      "Epoch 16/40\n",
      "88019/88019 [==============================] - 48s 549us/step - loss: 0.3879 - auc_9: 0.7760\n",
      "Epoch 17/40\n",
      "88019/88019 [==============================] - 48s 549us/step - loss: 0.3878 - auc_9: 0.7761\n",
      "Epoch 18/40\n",
      "88019/88019 [==============================] - 48s 550us/step - loss: 0.3878 - auc_9: 0.7764\n",
      "Epoch 19/40\n",
      "88019/88019 [==============================] - 48s 550us/step - loss: 0.3877 - auc_9: 0.7768\n",
      "Epoch 20/40\n",
      "88019/88019 [==============================] - 48s 549us/step - loss: 0.3877 - auc_9: 0.7767\n",
      "Epoch 21/40\n",
      "88019/88019 [==============================] - 48s 549us/step - loss: 0.3876 - auc_9: 0.7770\n",
      "Epoch 22/40\n",
      "88019/88019 [==============================] - 48s 550us/step - loss: 0.3875 - auc_9: 0.7768\n",
      "Epoch 23/40\n",
      "88019/88019 [==============================] - 48s 551us/step - loss: 0.3874 - auc_9: 0.7771\n",
      "Epoch 24/40\n",
      "88019/88019 [==============================] - 48s 550us/step - loss: 0.3874 - auc_9: 0.7765\n",
      "Epoch 25/40\n",
      "88019/88019 [==============================] - 48s 550us/step - loss: 0.3873 - auc_9: 0.7768\n",
      "Epoch 26/40\n",
      "88019/88019 [==============================] - 49s 561us/step - loss: 0.3873 - auc_9: 0.7771\n",
      "Epoch 27/40\n",
      "88019/88019 [==============================] - 50s 570us/step - loss: 0.3873 - auc_9: 0.7773\n",
      "Epoch 28/40\n",
      "88019/88019 [==============================] - 50s 571us/step - loss: 0.3872 - auc_9: 0.7773\n",
      "Epoch 29/40\n",
      "88019/88019 [==============================] - 49s 557us/step - loss: 0.3872 - auc_9: 0.7770\n",
      "Epoch 30/40\n",
      "88019/88019 [==============================] - 48s 550us/step - loss: 0.3872 - auc_9: 0.7769\n",
      "Epoch 31/40\n",
      "88019/88019 [==============================] - 49s 551us/step - loss: 0.3872 - auc_9: 0.7768\n",
      "Epoch 32/40\n",
      "88019/88019 [==============================] - 48s 551us/step - loss: 0.3872 - auc_9: 0.7770\n",
      "Epoch 33/40\n",
      "88019/88019 [==============================] - 48s 551us/step - loss: 0.3871 - auc_9: 0.7772\n",
      "Epoch 34/40\n",
      "88019/88019 [==============================] - 49s 551us/step - loss: 0.3871 - auc_9: 0.7773\n",
      "Epoch 35/40\n",
      "88019/88019 [==============================] - 49s 553us/step - loss: 0.3872 - auc_9: 0.7767\n",
      "Epoch 36/40\n",
      "88019/88019 [==============================] - 49s 552us/step - loss: 0.3871 - auc_9: 0.7771\n",
      "Epoch 37/40\n",
      "88019/88019 [==============================] - 49s 552us/step - loss: 0.3871 - auc_9: 0.7771\n",
      "Epoch 38/40\n",
      "88019/88019 [==============================] - 49s 553us/step - loss: 0.3871 - auc_9: 0.7771\n",
      "Epoch 39/40\n",
      "88019/88019 [==============================] - 49s 553us/step - loss: 0.3871 - auc_9: 0.7769\n",
      "Epoch 40/40\n",
      "88019/88019 [==============================] - 49s 553us/step - loss: 0.3871 - auc_9: 0.7768\n",
      "Train\n",
      "FDR at 3% rate:  55.59\n",
      "Test\n",
      "FDR at 3% rate:  55.09\n",
      "OOT\n",
      "FDR at 3% rate:  52.72\n"
     ]
    }
   ],
   "source": [
    "runNN(X_train_over30, y_train_over30, 30, 'adam', 40)"
   ]
  },
  {
   "cell_type": "code",
   "execution_count": 44,
   "id": "changed-african",
   "metadata": {},
   "outputs": [
    {
     "name": "stdout",
     "output_type": "stream",
     "text": [
      "Epoch 1/40\n",
      "88019/88019 [==============================] - 47s 539us/step - loss: 0.3973 - auc_10: 0.7725\n",
      "Epoch 2/40\n",
      "88019/88019 [==============================] - 47s 537us/step - loss: 0.3904 - auc_10: 0.7743\n",
      "Epoch 3/40\n",
      "88019/88019 [==============================] - 47s 538us/step - loss: 0.3892 - auc_10: 0.7739\n",
      "Epoch 4/40\n",
      "88019/88019 [==============================] - 47s 538us/step - loss: 0.3888 - auc_10: 0.7748\n",
      "Epoch 5/40\n",
      "88019/88019 [==============================] - 47s 539us/step - loss: 0.3886 - auc_10: 0.7747\n",
      "Epoch 6/40\n",
      "88019/88019 [==============================] - 47s 538us/step - loss: 0.3885 - auc_10: 0.7751\n",
      "Epoch 7/40\n",
      "88019/88019 [==============================] - 48s 540us/step - loss: 0.3884 - auc_10: 0.7750\n",
      "Epoch 8/40\n",
      "88019/88019 [==============================] - 48s 544us/step - loss: 0.3883 - auc_10: 0.7749\n",
      "Epoch 9/40\n",
      "88019/88019 [==============================] - 47s 539us/step - loss: 0.3882 - auc_10: 0.7756\n",
      "Epoch 10/40\n",
      "88019/88019 [==============================] - 47s 539us/step - loss: 0.3882 - auc_10: 0.7754\n",
      "Epoch 11/40\n",
      "88019/88019 [==============================] - 47s 539us/step - loss: 0.3880 - auc_10: 0.7762\n",
      "Epoch 12/40\n",
      "88019/88019 [==============================] - 47s 539us/step - loss: 0.3880 - auc_10: 0.7752\n",
      "Epoch 13/40\n",
      "88019/88019 [==============================] - 48s 540us/step - loss: 0.3880 - auc_10: 0.7760\n",
      "Epoch 14/40\n",
      "88019/88019 [==============================] - 47s 539us/step - loss: 0.3880 - auc_10: 0.7753\n",
      "Epoch 15/40\n",
      "88019/88019 [==============================] - 48s 540us/step - loss: 0.3879 - auc_10: 0.7760\n",
      "Epoch 16/40\n",
      "88019/88019 [==============================] - 47s 539us/step - loss: 0.3878 - auc_10: 0.7764\n",
      "Epoch 17/40\n",
      "88019/88019 [==============================] - 47s 538us/step - loss: 0.3878 - auc_10: 0.7763\n",
      "Epoch 18/40\n",
      "88019/88019 [==============================] - 47s 539us/step - loss: 0.3876 - auc_10: 0.7770\n",
      "Epoch 19/40\n",
      "88019/88019 [==============================] - 48s 540us/step - loss: 0.3875 - auc_10: 0.7772\n",
      "Epoch 20/40\n",
      "88019/88019 [==============================] - 47s 539us/step - loss: 0.3875 - auc_10: 0.7764\n",
      "Epoch 21/40\n",
      "88019/88019 [==============================] - 47s 539us/step - loss: 0.3874 - auc_10: 0.7772\n",
      "Epoch 22/40\n",
      "88019/88019 [==============================] - 47s 539us/step - loss: 0.3874 - auc_10: 0.7776\n",
      "Epoch 23/40\n",
      "88019/88019 [==============================] - 48s 548us/step - loss: 0.3874 - auc_10: 0.7767\n",
      "Epoch 24/40\n",
      "88019/88019 [==============================] - 48s 543us/step - loss: 0.3872 - auc_10: 0.7775\n",
      "Epoch 25/40\n",
      "88019/88019 [==============================] - 48s 544us/step - loss: 0.3873 - auc_10: 0.7766\n",
      "Epoch 26/40\n",
      "88019/88019 [==============================] - 48s 545us/step - loss: 0.3872 - auc_10: 0.7774\n",
      "Epoch 27/40\n",
      "88019/88019 [==============================] - 49s 553us/step - loss: 0.3872 - auc_10: 0.7773\n",
      "Epoch 28/40\n",
      "88019/88019 [==============================] - 48s 548us/step - loss: 0.3871 - auc_10: 0.7775\n",
      "Epoch 29/40\n",
      "88019/88019 [==============================] - 48s 550us/step - loss: 0.3872 - auc_10: 0.7771\n",
      "Epoch 30/40\n",
      "88019/88019 [==============================] - 48s 551us/step - loss: 0.3872 - auc_10: 0.7768\n",
      "Epoch 31/40\n",
      "88019/88019 [==============================] - 48s 551us/step - loss: 0.3871 - auc_10: 0.7774\n",
      "Epoch 32/40\n",
      "88019/88019 [==============================] - 48s 551us/step - loss: 0.3871 - auc_10: 0.7769\n",
      "Epoch 33/40\n",
      "88019/88019 [==============================] - 49s 551us/step - loss: 0.3871 - auc_10: 0.7772\n",
      "Epoch 34/40\n",
      "88019/88019 [==============================] - 49s 552us/step - loss: 0.3871 - auc_10: 0.7770\n",
      "Epoch 35/40\n",
      "88019/88019 [==============================] - 49s 552us/step - loss: 0.3871 - auc_10: 0.7771\n",
      "Epoch 36/40\n",
      "88019/88019 [==============================] - 48s 548us/step - loss: 0.3870 - auc_10: 0.7772\n",
      "Epoch 37/40\n",
      "88019/88019 [==============================] - 48s 548us/step - loss: 0.3870 - auc_10: 0.7774\n",
      "Epoch 38/40\n",
      "88019/88019 [==============================] - 48s 548us/step - loss: 0.3870 - auc_10: 0.7774\n",
      "Epoch 39/40\n",
      "88019/88019 [==============================] - 48s 548us/step - loss: 0.3869 - auc_10: 0.7778\n",
      "Epoch 40/40\n",
      "88019/88019 [==============================] - 48s 549us/step - loss: 0.3870 - auc_10: 0.7779\n",
      "Train\n",
      "FDR at 3% rate:  55.72\n",
      "Test\n",
      "FDR at 3% rate:  55.12\n",
      "OOT\n",
      "FDR at 3% rate:  53.02\n"
     ]
    }
   ],
   "source": [
    "runNN(X_train_over30, y_train_over30, 50, 'adam', 40)"
   ]
  },
  {
   "cell_type": "code",
   "execution_count": 52,
   "id": "retained-wells",
   "metadata": {},
   "outputs": [
    {
     "name": "stdout",
     "output_type": "stream",
     "text": [
      "Epoch 1/20\n",
      "88019/88019 [==============================] - 48s 545us/step - loss: 0.3974 - auc_11: 0.7724\n",
      "Epoch 2/20\n",
      "88019/88019 [==============================] - 48s 544us/step - loss: 0.3902 - auc_11: 0.7737\n",
      "Epoch 3/20\n",
      "88019/88019 [==============================] - 48s 545us/step - loss: 0.3891 - auc_11: 0.7740\n",
      "Epoch 4/20\n",
      "88019/88019 [==============================] - 48s 544us/step - loss: 0.3889 - auc_11: 0.7744\n",
      "Epoch 5/20\n",
      "88019/88019 [==============================] - 48s 543us/step - loss: 0.3886 - auc_11: 0.7752\n",
      "Epoch 6/20\n",
      "88019/88019 [==============================] - 48s 544us/step - loss: 0.3886 - auc_11: 0.7754\n",
      "Epoch 7/20\n",
      "88019/88019 [==============================] - 48s 544us/step - loss: 0.3885 - auc_11: 0.7753\n",
      "Epoch 8/20\n",
      "88019/88019 [==============================] - 48s 544us/step - loss: 0.3884 - auc_11: 0.7752\n",
      "Epoch 9/20\n",
      "88019/88019 [==============================] - 48s 544us/step - loss: 0.3883 - auc_11: 0.7754\n",
      "Epoch 10/20\n",
      "88019/88019 [==============================] - 48s 545us/step - loss: 0.3883 - auc_11: 0.7760\n",
      "Epoch 11/20\n",
      "88019/88019 [==============================] - 48s 545us/step - loss: 0.3882 - auc_11: 0.7759\n",
      "Epoch 12/20\n",
      "88019/88019 [==============================] - 48s 547us/step - loss: 0.3882 - auc_11: 0.7756\n",
      "Epoch 13/20\n",
      "88019/88019 [==============================] - 48s 548us/step - loss: 0.3881 - auc_11: 0.7757\n",
      "Epoch 14/20\n",
      "88019/88019 [==============================] - 48s 546us/step - loss: 0.3880 - auc_11: 0.7760\n",
      "Epoch 15/20\n",
      "88019/88019 [==============================] - 48s 546us/step - loss: 0.3879 - auc_11: 0.7762\n",
      "Epoch 16/20\n",
      "88019/88019 [==============================] - 48s 547us/step - loss: 0.3879 - auc_11: 0.7761\n",
      "Epoch 17/20\n",
      "88019/88019 [==============================] - 48s 547us/step - loss: 0.3879 - auc_11: 0.7762\n",
      "Epoch 18/20\n",
      "88019/88019 [==============================] - 48s 547us/step - loss: 0.3878 - auc_11: 0.7768\n",
      "Epoch 19/20\n",
      "88019/88019 [==============================] - 48s 547us/step - loss: 0.3878 - auc_11: 0.7760\n",
      "Epoch 20/20\n",
      "88019/88019 [==============================] - 48s 548us/step - loss: 0.3878 - auc_11: 0.7765\n",
      "Train\n",
      "FDR at 3% rate:  55.61\n",
      "Test\n",
      "FDR at 3% rate:  54.76\n",
      "OOT\n",
      "FDR at 3% rate:  53.23\n"
     ]
    }
   ],
   "source": [
    "# Last Run\n",
    "runNN(X_train_over30, y_train_over30, 50, 'adam', 20)"
   ]
  },
  {
   "cell_type": "markdown",
   "id": "breeding-justice",
   "metadata": {},
   "source": [
    "# Random Forest"
   ]
  },
  {
   "cell_type": "code",
   "execution_count": 9,
   "id": "healthy-enforcement",
   "metadata": {},
   "outputs": [],
   "source": [
    "# Defines a simple Random Forest \n",
    "def RunForest(trees,depth, min_sample, criterion, X, y): \n",
    "    model = RandomForestClassifier(n_estimators = trees,\n",
    "                                   min_samples_split = min_sample, \n",
    "                                   max_depth = depth,\n",
    "                                   class_weight = {1:.9, 0:.1}\n",
    "                                  ).fit(\n",
    "        X, y)\n",
    "    y_pred = model.predict_proba(X_train)\n",
    "    print(\"Train\")\n",
    "    findFDR(y_train, y_pred[:,1])\n",
    "    y_pred = model.predict_proba(X_test)\n",
    "    print('Test')\n",
    "    findFDR(y_test, y_pred[:,1])\n",
    "    y_pred = model.predict_proba(ootX)\n",
    "    print('OOT')\n",
    "    findFDR(ootY, y_pred[:,1])"
   ]
  },
  {
   "cell_type": "code",
   "execution_count": 10,
   "id": "appreciated-uzbekistan",
   "metadata": {},
   "outputs": [
    {
     "name": "stdout",
     "output_type": "stream",
     "text": [
      "Train\n",
      "FDR at 3% rate:  55.54\n",
      "Test\n",
      "FDR at 3% rate:  55.59\n",
      "OOT\n",
      "FDR at 3% rate:  53.44\n"
     ]
    }
   ],
   "source": [
    "RunForest(100, 20, 300, 'gini', X_train, y_train)"
   ]
  },
  {
   "cell_type": "code",
   "execution_count": 46,
   "id": "isolated-chicken",
   "metadata": {},
   "outputs": [
    {
     "name": "stdout",
     "output_type": "stream",
     "text": [
      "Train\n",
      "FDR at 3% rate:  55.51\n",
      "Test\n",
      "FDR at 3% rate:  54.76\n",
      "OOT\n",
      "FDR at 3% rate:  53.35\n"
     ]
    }
   ],
   "source": [
    "RunForest(150, 10, 200, 'entorpy', X_train, y_train)"
   ]
  },
  {
   "cell_type": "code",
   "execution_count": 47,
   "id": "basic-package",
   "metadata": {},
   "outputs": [
    {
     "name": "stdout",
     "output_type": "stream",
     "text": [
      "Train\n",
      "FDR at 3% rate:  55.73\n",
      "Test\n",
      "FDR at 3% rate:  55.06\n",
      "OOT\n",
      "FDR at 3% rate:  53.48\n"
     ]
    }
   ],
   "source": [
    "RunForest(150, 25, 300, 'entorpy', X_train, y_train)"
   ]
  },
  {
   "cell_type": "code",
   "execution_count": 48,
   "id": "bottom-penguin",
   "metadata": {},
   "outputs": [
    {
     "name": "stdout",
     "output_type": "stream",
     "text": [
      "Train\n",
      "FDR at 3% rate:  55.67\n",
      "Test\n",
      "FDR at 3% rate:  55.12\n",
      "OOT\n",
      "FDR at 3% rate:  53.52\n"
     ]
    }
   ],
   "source": [
    "RunForest(150, 30, 400, 'entorpy', X_train, y_train)"
   ]
  },
  {
   "cell_type": "code",
   "execution_count": 49,
   "id": "strange-newfoundland",
   "metadata": {},
   "outputs": [
    {
     "name": "stdout",
     "output_type": "stream",
     "text": [
      "Train\n",
      "FDR at 3% rate:  55.71\n",
      "Test\n",
      "FDR at 3% rate:  55.12\n",
      "OOT\n",
      "FDR at 3% rate:  53.52\n"
     ]
    }
   ],
   "source": [
    "RunForest(100, 20, 400, 'gini', X_train, y_train)"
   ]
  },
  {
   "cell_type": "code",
   "execution_count": 50,
   "id": "prerequisite-rapid",
   "metadata": {},
   "outputs": [
    {
     "name": "stdout",
     "output_type": "stream",
     "text": [
      "Train\n",
      "FDR at 3% rate:  55.65\n",
      "Test\n",
      "FDR at 3% rate:  55.06\n",
      "OOT\n",
      "FDR at 3% rate:  53.44\n"
     ]
    }
   ],
   "source": [
    "RunForest(50, 25, 300, 'gini', X_train, y_train)"
   ]
  },
  {
   "cell_type": "code",
   "execution_count": 51,
   "id": "corporate-soldier",
   "metadata": {},
   "outputs": [
    {
     "name": "stdout",
     "output_type": "stream",
     "text": [
      "Train\n",
      "FDR at 3% rate:  55.69\n",
      "Test\n",
      "FDR at 3% rate:  54.99\n",
      "OOT\n",
      "FDR at 3% rate:  53.56\n"
     ]
    }
   ],
   "source": [
    "RunForest(50, 25, 300, 'gini', X_train, y_train)"
   ]
  },
  {
   "cell_type": "markdown",
   "id": "native-majority",
   "metadata": {},
   "source": [
    "# Boosted Trees"
   ]
  },
  {
   "cell_type": "code",
   "execution_count": null,
   "id": "tight-istanbul",
   "metadata": {},
   "outputs": [],
   "source": [
    "# XGBoost"
   ]
  },
  {
   "cell_type": "code",
   "execution_count": null,
   "id": "stunning-chile",
   "metadata": {},
   "outputs": [],
   "source": [
    "xgbs = XGBClassifier(n_jobs =  8, eta = 0.05, \n",
    "                     max_depth = 5, \n",
    "                     n_estimators = 600, subsample = 1,\n",
    "                     eval_metric = 'auc')\n",
    "model = xgbs.fit(X_train_under50, y_train_under50)"
   ]
  },
  {
   "cell_type": "code",
   "execution_count": null,
   "id": "mysterious-holmes",
   "metadata": {},
   "outputs": [],
   "source": [
    "y_pred = model.predict_proba(X_train)\n",
    "print('Train')\n",
    "findFDR(y_train, y_pred[:,1])"
   ]
  },
  {
   "cell_type": "code",
   "execution_count": null,
   "id": "silent-commons",
   "metadata": {},
   "outputs": [],
   "source": [
    "y_pred = model.predict_proba(X_test)\n",
    "print('Test')\n",
    "findFDR(y_test, y_pred[:,1])"
   ]
  },
  {
   "cell_type": "code",
   "execution_count": null,
   "id": "industrial-information",
   "metadata": {},
   "outputs": [],
   "source": [
    "y_pred = model.predict_proba(ootX)\n",
    "print('OOT')\n",
    "findFDR(ootY, y_pred[:,1])"
   ]
  }
 ],
 "metadata": {
  "kernelspec": {
   "display_name": "Python 3",
   "language": "python",
   "name": "python3"
  },
  "language_info": {
   "codemirror_mode": {
    "name": "ipython",
    "version": 3
   },
   "file_extension": ".py",
   "mimetype": "text/x-python",
   "name": "python",
   "nbconvert_exporter": "python",
   "pygments_lexer": "ipython3",
   "version": "3.7.6"
  }
 },
 "nbformat": 4,
 "nbformat_minor": 5
}
