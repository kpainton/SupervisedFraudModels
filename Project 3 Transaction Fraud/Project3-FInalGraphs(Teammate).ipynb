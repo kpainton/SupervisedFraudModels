{
 "cells": [
  {
   "cell_type": "markdown",
   "metadata": {
    "heading_collapsed": true
   },
   "source": [
    "# Imports 'n Such "
   ]
  },
  {
   "cell_type": "code",
   "execution_count": 72,
   "metadata": {
    "ExecuteTime": {
     "end_time": "2021-05-05T21:45:43.044945Z",
     "start_time": "2021-05-05T21:45:43.038785Z"
    },
    "hidden": true
   },
   "outputs": [],
   "source": [
    "def fdr(model, x_df, y_df): \n",
    "    probs = pd.Series(model.predict_proba(x_df)[:,1]).sort_values(ascending=False)\n",
    "\n",
    "    numbads = y_df.sum()\n",
    "    topRows = int(round(len(probs)*0.03))\n",
    "    detected = y_df[probs.head(topRows).index].sum()\n",
    "    total = y_df.sum()\n",
    "\n",
    "    return((detected / total)*100) "
   ]
  },
  {
   "cell_type": "code",
   "execution_count": 73,
   "metadata": {
    "ExecuteTime": {
     "end_time": "2021-05-05T21:45:43.315813Z",
     "start_time": "2021-05-05T21:45:43.311227Z"
    },
    "hidden": true
   },
   "outputs": [],
   "source": [
    "def fdr_nn(model, x_df, y_df): \n",
    "    probs = model.predict(x_df)\n",
    "    probs = pd.DataFrame(probs, columns=['yup'])['yup'].sort_values(ascending=False)\n",
    "\n",
    "    numbads = y_df.sum()\n",
    "    topRows = int(round(len(probs)*0.03))\n",
    "    detected = y_df[probs.head(topRows).index].sum()\n",
    "    total = y_df.sum()\n",
    "\n",
    "    return((detected / total)*100) "
   ]
  },
  {
   "cell_type": "code",
   "execution_count": 74,
   "metadata": {
    "ExecuteTime": {
     "end_time": "2021-05-05T21:45:43.556954Z",
     "start_time": "2021-05-05T21:45:43.551119Z"
    },
    "hidden": true
   },
   "outputs": [],
   "source": [
    "import pandas as pd\n",
    "import seaborn as sns\n",
    "import matplotlib.pyplot as plt\n",
    "import numpy as np\n",
    "import itertools\n",
    "import operator \n",
    "\n",
    "from sklearn.model_selection import train_test_split\n",
    "from sklearn.linear_model import LinearRegression\n",
    "from sklearn.linear_model import LogisticRegression\n",
    "from sklearn.model_selection import cross_val_score\n",
    "from sklearn.model_selection import StratifiedKFold\n",
    "from sklearn.model_selection import KFold\n",
    "from sklearn.ensemble import RandomForestClassifier \n",
    "from sklearn.discriminant_analysis import LinearDiscriminantAnalysis\n",
    "from sklearn.neighbors import KNeighborsClassifier\n",
    "\n",
    "import math"
   ]
  },
  {
   "cell_type": "code",
   "execution_count": 75,
   "metadata": {
    "ExecuteTime": {
     "end_time": "2021-05-05T21:45:44.014724Z",
     "start_time": "2021-05-05T21:45:43.789149Z"
    },
    "hidden": true
   },
   "outputs": [],
   "source": [
    "mydata = pd.read_csv('CreditCardFraudData.csv', parse_dates = ['Date'])"
   ]
  },
  {
   "cell_type": "code",
   "execution_count": 76,
   "metadata": {
    "ExecuteTime": {
     "end_time": "2021-05-05T21:45:44.392409Z",
     "start_time": "2021-05-05T21:45:44.253331Z"
    },
    "hidden": true
   },
   "outputs": [],
   "source": [
    "orig_df = pd.read_csv(\"cleaned_data.csv\")"
   ]
  },
  {
   "cell_type": "code",
   "execution_count": 77,
   "metadata": {
    "ExecuteTime": {
     "end_time": "2021-05-05T21:45:44.678693Z",
     "start_time": "2021-05-05T21:45:44.675152Z"
    },
    "hidden": true
   },
   "outputs": [
    {
     "name": "stdout",
     "output_type": "stream",
     "text": [
      "(96205, 19)\n",
      "(96397, 11)\n"
     ]
    }
   ],
   "source": [
    "print(mydata.shape)\n",
    "print(orig_df.shape)"
   ]
  },
  {
   "cell_type": "code",
   "execution_count": 78,
   "metadata": {
    "ExecuteTime": {
     "end_time": "2021-05-05T21:45:44.989756Z",
     "start_time": "2021-05-05T21:45:44.922366Z"
    },
    "hidden": true
   },
   "outputs": [],
   "source": [
    "mydata = mydata.merge(orig_df[[\"Recnum\", \"Merchnum\"]], on=\"Recnum\")\\\n",
    "    .drop(\"Merchnum_x\", axis=1)\\\n",
    "    .rename(columns={\"Merchnum_y\":\"Merchnum\"})"
   ]
  },
  {
   "cell_type": "code",
   "execution_count": 79,
   "metadata": {
    "ExecuteTime": {
     "end_time": "2021-05-05T21:45:45.286185Z",
     "start_time": "2021-05-05T21:45:45.263274Z"
    },
    "hidden": true
   },
   "outputs": [
    {
     "data": {
      "text/html": [
       "<div>\n",
       "<style scoped>\n",
       "    .dataframe tbody tr th:only-of-type {\n",
       "        vertical-align: middle;\n",
       "    }\n",
       "\n",
       "    .dataframe tbody tr th {\n",
       "        vertical-align: top;\n",
       "    }\n",
       "\n",
       "    .dataframe thead th {\n",
       "        text-align: right;\n",
       "    }\n",
       "</style>\n",
       "<table border=\"1\" class=\"dataframe\">\n",
       "  <thead>\n",
       "    <tr style=\"text-align: right;\">\n",
       "      <th></th>\n",
       "      <th>Recnum</th>\n",
       "      <th>Date</th>\n",
       "      <th>Fraud</th>\n",
       "      <th>Cardnum</th>\n",
       "      <th>Amount_Cardnum_Merch_description_sum_7</th>\n",
       "      <th>Amount_Merchnum_actual/median_365</th>\n",
       "      <th>Amount_Cardnum_sum_1</th>\n",
       "      <th>Amount_Cardnum_Merch_description_max_7</th>\n",
       "      <th>Amount_Cardnum_Merchnum_sum_30</th>\n",
       "      <th>Amount_Merchnum_max_1</th>\n",
       "      <th>Amount_Merchnum_max_3</th>\n",
       "      <th>Amount_Merchnum_max_14</th>\n",
       "      <th>Amount_Cardnum_Merch zip_median_180</th>\n",
       "      <th>Amount_Cardnum_Merch zip_max_30</th>\n",
       "      <th>Amount_Cardnum_sum_3</th>\n",
       "      <th>Amount_Cardnum_Industry_sum_0</th>\n",
       "      <th>Amount_Cardnum_median_30</th>\n",
       "      <th>Amount_Cardnum_Merch_description_sum_14</th>\n",
       "      <th>Merchnum</th>\n",
       "    </tr>\n",
       "  </thead>\n",
       "  <tbody>\n",
       "    <tr>\n",
       "      <th>0</th>\n",
       "      <td>1</td>\n",
       "      <td>2010-01-01</td>\n",
       "      <td>0</td>\n",
       "      <td>5142190439</td>\n",
       "      <td>3.62</td>\n",
       "      <td>1.0</td>\n",
       "      <td>3.62</td>\n",
       "      <td>3.62</td>\n",
       "      <td>3.62</td>\n",
       "      <td>3.62</td>\n",
       "      <td>3.62</td>\n",
       "      <td>3.62</td>\n",
       "      <td>3.62</td>\n",
       "      <td>3.62</td>\n",
       "      <td>3.62</td>\n",
       "      <td>3.62</td>\n",
       "      <td>3.62</td>\n",
       "      <td>3.62</td>\n",
       "      <td>5509006296254</td>\n",
       "    </tr>\n",
       "    <tr>\n",
       "      <th>1</th>\n",
       "      <td>2</td>\n",
       "      <td>2010-01-01</td>\n",
       "      <td>0</td>\n",
       "      <td>5142183973</td>\n",
       "      <td>31.42</td>\n",
       "      <td>1.0</td>\n",
       "      <td>31.42</td>\n",
       "      <td>31.42</td>\n",
       "      <td>31.42</td>\n",
       "      <td>31.42</td>\n",
       "      <td>31.42</td>\n",
       "      <td>31.42</td>\n",
       "      <td>31.42</td>\n",
       "      <td>31.42</td>\n",
       "      <td>31.42</td>\n",
       "      <td>31.42</td>\n",
       "      <td>31.42</td>\n",
       "      <td>31.42</td>\n",
       "      <td>61003026333</td>\n",
       "    </tr>\n",
       "    <tr>\n",
       "      <th>2</th>\n",
       "      <td>3</td>\n",
       "      <td>2010-01-01</td>\n",
       "      <td>0</td>\n",
       "      <td>5142131721</td>\n",
       "      <td>178.49</td>\n",
       "      <td>1.0</td>\n",
       "      <td>178.49</td>\n",
       "      <td>178.49</td>\n",
       "      <td>178.49</td>\n",
       "      <td>178.49</td>\n",
       "      <td>178.49</td>\n",
       "      <td>178.49</td>\n",
       "      <td>178.49</td>\n",
       "      <td>178.49</td>\n",
       "      <td>178.49</td>\n",
       "      <td>178.49</td>\n",
       "      <td>178.49</td>\n",
       "      <td>178.49</td>\n",
       "      <td>4503082993600</td>\n",
       "    </tr>\n",
       "    <tr>\n",
       "      <th>3</th>\n",
       "      <td>4</td>\n",
       "      <td>2010-01-01</td>\n",
       "      <td>0</td>\n",
       "      <td>5142148452</td>\n",
       "      <td>3.62</td>\n",
       "      <td>1.0</td>\n",
       "      <td>3.62</td>\n",
       "      <td>3.62</td>\n",
       "      <td>3.62</td>\n",
       "      <td>3.62</td>\n",
       "      <td>3.62</td>\n",
       "      <td>3.62</td>\n",
       "      <td>3.62</td>\n",
       "      <td>3.62</td>\n",
       "      <td>3.62</td>\n",
       "      <td>3.62</td>\n",
       "      <td>3.62</td>\n",
       "      <td>3.62</td>\n",
       "      <td>5509006296254</td>\n",
       "    </tr>\n",
       "    <tr>\n",
       "      <th>4</th>\n",
       "      <td>5</td>\n",
       "      <td>2010-01-01</td>\n",
       "      <td>0</td>\n",
       "      <td>5142190439</td>\n",
       "      <td>7.24</td>\n",
       "      <td>1.0</td>\n",
       "      <td>7.24</td>\n",
       "      <td>3.62</td>\n",
       "      <td>7.24</td>\n",
       "      <td>3.62</td>\n",
       "      <td>3.62</td>\n",
       "      <td>3.62</td>\n",
       "      <td>3.62</td>\n",
       "      <td>3.62</td>\n",
       "      <td>7.24</td>\n",
       "      <td>7.24</td>\n",
       "      <td>3.62</td>\n",
       "      <td>7.24</td>\n",
       "      <td>5509006296254</td>\n",
       "    </tr>\n",
       "  </tbody>\n",
       "</table>\n",
       "</div>"
      ],
      "text/plain": [
       "   Recnum       Date  Fraud     Cardnum  \\\n",
       "0       1 2010-01-01      0  5142190439   \n",
       "1       2 2010-01-01      0  5142183973   \n",
       "2       3 2010-01-01      0  5142131721   \n",
       "3       4 2010-01-01      0  5142148452   \n",
       "4       5 2010-01-01      0  5142190439   \n",
       "\n",
       "   Amount_Cardnum_Merch_description_sum_7  Amount_Merchnum_actual/median_365  \\\n",
       "0                                    3.62                                1.0   \n",
       "1                                   31.42                                1.0   \n",
       "2                                  178.49                                1.0   \n",
       "3                                    3.62                                1.0   \n",
       "4                                    7.24                                1.0   \n",
       "\n",
       "   Amount_Cardnum_sum_1  Amount_Cardnum_Merch_description_max_7  \\\n",
       "0                  3.62                                    3.62   \n",
       "1                 31.42                                   31.42   \n",
       "2                178.49                                  178.49   \n",
       "3                  3.62                                    3.62   \n",
       "4                  7.24                                    3.62   \n",
       "\n",
       "   Amount_Cardnum_Merchnum_sum_30  Amount_Merchnum_max_1  \\\n",
       "0                            3.62                   3.62   \n",
       "1                           31.42                  31.42   \n",
       "2                          178.49                 178.49   \n",
       "3                            3.62                   3.62   \n",
       "4                            7.24                   3.62   \n",
       "\n",
       "   Amount_Merchnum_max_3  Amount_Merchnum_max_14  \\\n",
       "0                   3.62                    3.62   \n",
       "1                  31.42                   31.42   \n",
       "2                 178.49                  178.49   \n",
       "3                   3.62                    3.62   \n",
       "4                   3.62                    3.62   \n",
       "\n",
       "   Amount_Cardnum_Merch zip_median_180  Amount_Cardnum_Merch zip_max_30  \\\n",
       "0                                 3.62                             3.62   \n",
       "1                                31.42                            31.42   \n",
       "2                               178.49                           178.49   \n",
       "3                                 3.62                             3.62   \n",
       "4                                 3.62                             3.62   \n",
       "\n",
       "   Amount_Cardnum_sum_3  Amount_Cardnum_Industry_sum_0  \\\n",
       "0                  3.62                           3.62   \n",
       "1                 31.42                          31.42   \n",
       "2                178.49                         178.49   \n",
       "3                  3.62                           3.62   \n",
       "4                  7.24                           7.24   \n",
       "\n",
       "   Amount_Cardnum_median_30  Amount_Cardnum_Merch_description_sum_14  \\\n",
       "0                      3.62                                     3.62   \n",
       "1                     31.42                                    31.42   \n",
       "2                    178.49                                   178.49   \n",
       "3                      3.62                                     3.62   \n",
       "4                      3.62                                     7.24   \n",
       "\n",
       "        Merchnum  \n",
       "0  5509006296254  \n",
       "1    61003026333  \n",
       "2  4503082993600  \n",
       "3  5509006296254  \n",
       "4  5509006296254  "
      ]
     },
     "execution_count": 79,
     "metadata": {},
     "output_type": "execute_result"
    }
   ],
   "source": [
    "mydata.head()"
   ]
  },
  {
   "cell_type": "markdown",
   "metadata": {
    "heading_collapsed": true
   },
   "source": [
    "# Splitting Data"
   ]
  },
  {
   "cell_type": "code",
   "execution_count": 80,
   "metadata": {
    "ExecuteTime": {
     "end_time": "2021-05-05T21:45:45.619712Z",
     "start_time": "2021-05-05T21:45:45.604265Z"
    },
    "hidden": true
   },
   "outputs": [],
   "source": [
    "train_test = mydata[mydata['Date'] <  '2010-11-01']\n",
    "oot_X = mydata[mydata['Date'] >= '2010-11-01']\n",
    "\n",
    "oot_y = oot_X['Fraud']\n",
    "train_test_Y = train_test['Fraud']"
   ]
  },
  {
   "cell_type": "code",
   "execution_count": 81,
   "metadata": {
    "ExecuteTime": {
     "end_time": "2021-05-05T21:45:45.865723Z",
     "start_time": "2021-05-05T21:45:45.854273Z"
    },
    "hidden": true,
    "scrolled": true
   },
   "outputs": [],
   "source": [
    "train_test.drop(columns=['Recnum', 'Date', 'Cardnum','Merchnum', 'Fraud'], inplace = True)\n",
    "oot_X.drop(columns=['Recnum', 'Date', 'Cardnum','Merchnum', 'Fraud'], inplace = True)"
   ]
  },
  {
   "cell_type": "markdown",
   "metadata": {
    "heading_collapsed": true
   },
   "source": [
    "# Modeling"
   ]
  },
  {
   "cell_type": "markdown",
   "metadata": {
    "hidden": true
   },
   "source": [
    "## Final Random Forest"
   ]
  },
  {
   "cell_type": "code",
   "execution_count": 82,
   "metadata": {
    "ExecuteTime": {
     "end_time": "2021-05-05T21:45:46.090751Z",
     "start_time": "2021-05-05T21:45:46.086969Z"
    },
    "hidden": true
   },
   "outputs": [],
   "source": [
    "X_final = train_test\n",
    "y_final = train_test_Y"
   ]
  },
  {
   "cell_type": "code",
   "execution_count": 83,
   "metadata": {
    "ExecuteTime": {
     "end_time": "2021-05-05T21:47:01.478223Z",
     "start_time": "2021-05-05T21:45:46.299183Z"
    },
    "hidden": true
   },
   "outputs": [
    {
     "name": "stdout",
     "output_type": "stream",
     "text": [
      "0\n",
      "1\n",
      "2\n",
      "3\n",
      "4\n",
      "5\n",
      "6\n",
      "7\n",
      "8\n",
      "9\n",
      "RandomForestClassifier(max_depth=10, min_samples_split=300, n_estimators=50) 84.63636363636364 63.184357541899445\n"
     ]
    }
   ],
   "source": [
    "#RUN THIS ONE\n",
    "\n",
    "x_val = {'train':[],'oot':[]} \n",
    "model_fdr = []\n",
    "\n",
    "for i in range(10): \n",
    "#     X_train, X_test, y_train, y_test =\\\n",
    "#     train_test_split(train_test, train_test_Y,\n",
    "#     test_size=0.25,\n",
    "#     stratify=train_test_Y)\n",
    "\n",
    "#     y_train.reset_index(level = 0, drop = True, inplace = True)\n",
    "#     y_test.reset_index(level = 0, drop = True, inplace = True)\n",
    "    oot_y.reset_index(level = 0, drop = True, inplace = True)\n",
    "\n",
    "    model = RandomForestClassifier(n_estimators = 50, criterion = 'gini',\n",
    "                                   max_depth=10, \n",
    "                                   min_samples_split=300)\n",
    "    model.fit(X_final, y_final)\n",
    "\n",
    "    x_val['train'].append(fdr(model, X_final, y_final)) \n",
    "    x_val['oot'].append(fdr(model, oot_X, oot_y)) \n",
    "    print(i)\n",
    "\n",
    "model_fdr.append([model, np.mean(x_val['train']), np.mean(x_val['oot'])])\n",
    "\n",
    "print(model, np.mean(x_val['train']), np.mean(x_val['oot']))"
   ]
  },
  {
   "cell_type": "code",
   "execution_count": 84,
   "metadata": {
    "ExecuteTime": {
     "end_time": "2021-05-05T21:47:01.756304Z",
     "start_time": "2021-05-05T21:47:01.715510Z"
    },
    "hidden": true
   },
   "outputs": [],
   "source": [
    "pred_y = model.predict_proba(oot_X)[:,[1]]"
   ]
  },
  {
   "cell_type": "code",
   "execution_count": 85,
   "metadata": {
    "ExecuteTime": {
     "end_time": "2021-05-05T21:47:01.985646Z",
     "start_time": "2021-05-05T21:47:01.981120Z"
    },
    "hidden": true,
    "scrolled": true
   },
   "outputs": [
    {
     "data": {
      "text/plain": [
       "array([[0.00056528],\n",
       "       [0.00059366],\n",
       "       [0.00052897],\n",
       "       ...,\n",
       "       [0.00663432],\n",
       "       [0.00711162],\n",
       "       [0.17033348]])"
      ]
     },
     "execution_count": 85,
     "metadata": {},
     "output_type": "execute_result"
    }
   ],
   "source": [
    "pred_y"
   ]
  },
  {
   "cell_type": "markdown",
   "metadata": {},
   "source": [
    "# Graphs"
   ]
  },
  {
   "cell_type": "markdown",
   "metadata": {
    "heading_collapsed": true
   },
   "source": [
    "## Optimal FDR cutoff"
   ]
  },
  {
   "cell_type": "code",
   "execution_count": 86,
   "metadata": {
    "ExecuteTime": {
     "end_time": "2021-05-05T21:47:05.847052Z",
     "start_time": "2021-05-05T21:47:05.837484Z"
    },
    "hidden": true
   },
   "outputs": [],
   "source": [
    "oot_graph = pred_y.copy()\n",
    "oot_graph=pd.DataFrame(oot_graph[:,0], columns=['Prob'])\n",
    "oot_graph['actual_y'] = oot_y\n",
    "oot_graph.sort_values(by='Prob',ascending=False, inplace=True)"
   ]
  },
  {
   "cell_type": "code",
   "execution_count": 87,
   "metadata": {
    "ExecuteTime": {
     "end_time": "2021-05-05T21:47:06.315093Z",
     "start_time": "2021-05-05T21:47:06.309773Z"
    },
    "hidden": true
   },
   "outputs": [],
   "source": [
    "#total fraud savings\n",
    "fraud_savings = np.cumsum(oot_graph['actual_y']*2000)\n",
    "fraud_savings.reset_index(drop=True, inplace=True)"
   ]
  },
  {
   "cell_type": "code",
   "execution_count": 88,
   "metadata": {
    "ExecuteTime": {
     "end_time": "2021-05-05T21:47:06.623973Z",
     "start_time": "2021-05-05T21:47:06.616966Z"
    },
    "hidden": true
   },
   "outputs": [],
   "source": [
    "false_pos = oot_graph['actual_y'].apply(lambda x: 50 if x==0 else 0)\n",
    "false_positive = np.cumsum(false_pos)\n",
    "false_positive.reset_index(drop=True,inplace=True)"
   ]
  },
  {
   "cell_type": "code",
   "execution_count": 97,
   "metadata": {
    "ExecuteTime": {
     "end_time": "2021-05-05T21:50:18.383990Z",
     "start_time": "2021-05-05T21:50:18.379086Z"
    },
    "hidden": true
   },
   "outputs": [
    {
     "data": {
      "text/plain": [
       "12396"
      ]
     },
     "execution_count": 97,
     "metadata": {},
     "output_type": "execute_result"
    }
   ],
   "source": [
    "len(overall_savings)"
   ]
  },
  {
   "cell_type": "code",
   "execution_count": 89,
   "metadata": {
    "ExecuteTime": {
     "end_time": "2021-05-05T21:47:06.990628Z",
     "start_time": "2021-05-05T21:47:06.984869Z"
    },
    "hidden": true
   },
   "outputs": [],
   "source": [
    "overall_savings = fraud_savings - false_positive\n",
    "overall_savings.reset_index(drop=True, inplace=True)"
   ]
  },
  {
   "cell_type": "code",
   "execution_count": 24,
   "metadata": {
    "ExecuteTime": {
     "end_time": "2021-05-05T16:55:13.659664Z",
     "start_time": "2021-05-05T16:55:13.459349Z"
    },
    "hidden": true
   },
   "outputs": [
    {
     "data": {
      "text/plain": [
       "<matplotlib.legend.Legend at 0x7f84c7fd1b20>"
      ]
     },
     "execution_count": 24,
     "metadata": {},
     "output_type": "execute_result"
    },
    {
     "data": {
      "image/png": "[encoded data removed]",
      "text/plain": [
       "<Figure size 612x396 with 1 Axes>"
      ]
     },
     "metadata": {
      "needs_background": "light"
     },
     "output_type": "display_data"
    }
   ],
   "source": [
    "from matplotlib.lines import Line2D\n",
    "\n",
    "fig = plt.figure(figsize=(8.5,5.5))\n",
    "plt.plot(false_positive, color='red')\n",
    "plt.plot(fraud_savings, color='blue')\n",
    "plt.plot(overall_savings, color ='green')\n",
    "plt.xticks([1200, 2400, 3600, 4800, 6000], [10, 20, 30, 40, 50])\n",
    "plt.xlim([0,6000])\n",
    "plt.ylim([0,350000])\n",
    "plt.title('Fraud Savings', fontsize=16)\n",
    "plt.xlabel('OOT Population % bins', fontsize=12)\n",
    "\n",
    "custom_lines = [Line2D([0], [0], color='red', lw=4),\n",
    "                Line2D([0], [0], color='blue', lw=4),\n",
    "                Line2D([0], [0], color='green', lw=4)]\n",
    "plt.legend(custom_lines, ['False Positive', 'Fraud Savings', 'Overall Savings'])"
   ]
  },
  {
   "cell_type": "code",
   "execution_count": 91,
   "metadata": {
    "ExecuteTime": {
     "end_time": "2021-05-05T21:47:21.405736Z",
     "start_time": "2021-05-05T21:47:21.399429Z"
    },
    "hidden": true
   },
   "outputs": [
    {
     "data": {
      "text/plain": [
       "5.921264924169087"
      ]
     },
     "execution_count": 91,
     "metadata": {},
     "output_type": "execute_result"
    }
   ],
   "source": [
    "#finding a % of cutoff\n",
    "overall_savings.idxmax()\n",
    "overall_savings.idxmax()/len(false_positive)*100"
   ]
  },
  {
   "cell_type": "code",
   "execution_count": 92,
   "metadata": {
    "ExecuteTime": {
     "end_time": "2021-05-05T21:47:24.320224Z",
     "start_time": "2021-05-05T21:47:24.313070Z"
    },
    "hidden": true
   },
   "outputs": [
    {
     "data": {
      "text/plain": [
       "233850"
      ]
     },
     "execution_count": 92,
     "metadata": {},
     "output_type": "execute_result"
    }
   ],
   "source": [
    "#Maximum overall savings\n",
    "overall_savings.max()"
   ]
  },
  {
   "cell_type": "markdown",
   "metadata": {
    "heading_collapsed": true
   },
   "source": [
    "## Frequency of transaction"
   ]
  },
  {
   "cell_type": "code",
   "execution_count": 28,
   "metadata": {
    "ExecuteTime": {
     "end_time": "2021-05-05T17:06:14.234430Z",
     "start_time": "2021-05-05T17:06:14.228629Z"
    },
    "hidden": true
   },
   "outputs": [],
   "source": [
    "pred_y = pred_y.reshape(-1)"
   ]
  },
  {
   "cell_type": "code",
   "execution_count": 29,
   "metadata": {
    "ExecuteTime": {
     "end_time": "2021-05-05T17:06:14.768146Z",
     "start_time": "2021-05-05T17:06:14.743525Z"
    },
    "hidden": true,
    "scrolled": true
   },
   "outputs": [
    {
     "name": "stderr",
     "output_type": "stream",
     "text": [
      "/Users/anushkakapur/opt/anaconda3/lib/python3.8/site-packages/pandas/core/indexing.py:845: SettingWithCopyWarning: \n",
      "A value is trying to be set on a copy of a slice from a DataFrame.\n",
      "Try using .loc[row_indexer,col_indexer] = value instead\n",
      "\n",
      "See the caveats in the documentation: https://pandas.pydata.org/pandas-docs/stable/user_guide/indexing.html#returning-a-view-versus-a-copy\n",
      "  self.obj[key] = _infer_fill_value(value)\n",
      "/Users/anushkakapur/opt/anaconda3/lib/python3.8/site-packages/pandas/core/indexing.py:966: SettingWithCopyWarning: \n",
      "A value is trying to be set on a copy of a slice from a DataFrame.\n",
      "Try using .loc[row_indexer,col_indexer] = value instead\n",
      "\n",
      "See the caveats in the documentation: https://pandas.pydata.org/pandas-docs/stable/user_guide/indexing.html#returning-a-view-versus-a-copy\n",
      "  self.obj[item] = s\n"
     ]
    }
   ],
   "source": [
    "oot_trans = mydata[mydata['Date'] > '2010-10-31']\n",
    "oot_trans.loc[:,'Prob'] = pred_y"
   ]
  },
  {
   "cell_type": "code",
   "execution_count": 30,
   "metadata": {
    "ExecuteTime": {
     "end_time": "2021-05-05T17:06:15.384709Z",
     "start_time": "2021-05-05T17:06:15.361497Z"
    },
    "hidden": true
   },
   "outputs": [
    {
     "data": {
      "text/html": [
       "<div>\n",
       "<style scoped>\n",
       "    .dataframe tbody tr th:only-of-type {\n",
       "        vertical-align: middle;\n",
       "    }\n",
       "\n",
       "    .dataframe tbody tr th {\n",
       "        vertical-align: top;\n",
       "    }\n",
       "\n",
       "    .dataframe thead th {\n",
       "        text-align: right;\n",
       "    }\n",
       "</style>\n",
       "<table border=\"1\" class=\"dataframe\">\n",
       "  <thead>\n",
       "    <tr style=\"text-align: right;\">\n",
       "      <th></th>\n",
       "      <th>Recnum</th>\n",
       "      <th>Date</th>\n",
       "      <th>Fraud</th>\n",
       "      <th>Cardnum</th>\n",
       "      <th>Amount_Cardnum_Merch_description_sum_7</th>\n",
       "      <th>Amount_Merchnum_actual/median_365</th>\n",
       "      <th>Amount_Cardnum_sum_1</th>\n",
       "      <th>Amount_Cardnum_Merch_description_max_7</th>\n",
       "      <th>Amount_Cardnum_Merchnum_sum_30</th>\n",
       "      <th>Amount_Merchnum_max_1</th>\n",
       "      <th>Amount_Merchnum_max_3</th>\n",
       "      <th>Amount_Merchnum_max_14</th>\n",
       "      <th>Amount_Cardnum_Merch zip_median_180</th>\n",
       "      <th>Amount_Cardnum_Merch zip_max_30</th>\n",
       "      <th>Amount_Cardnum_sum_3</th>\n",
       "      <th>Amount_Cardnum_Industry_sum_0</th>\n",
       "      <th>Amount_Cardnum_median_30</th>\n",
       "      <th>Amount_Cardnum_Merch_description_sum_14</th>\n",
       "      <th>Merchnum</th>\n",
       "      <th>Prob</th>\n",
       "    </tr>\n",
       "  </thead>\n",
       "  <tbody>\n",
       "    <tr>\n",
       "      <th>96200</th>\n",
       "      <td>96749</td>\n",
       "      <td>2010-12-31</td>\n",
       "      <td>0</td>\n",
       "      <td>5142276053</td>\n",
       "      <td>84.79</td>\n",
       "      <td>1.000000</td>\n",
       "      <td>84.79</td>\n",
       "      <td>84.79</td>\n",
       "      <td>84.79</td>\n",
       "      <td>84.79</td>\n",
       "      <td>84.79</td>\n",
       "      <td>84.79</td>\n",
       "      <td>84.79</td>\n",
       "      <td>84.79</td>\n",
       "      <td>84.79</td>\n",
       "      <td>84.79</td>\n",
       "      <td>84.79</td>\n",
       "      <td>84.79</td>\n",
       "      <td>3500000006160</td>\n",
       "      <td>0.000470</td>\n",
       "    </tr>\n",
       "    <tr>\n",
       "      <th>96201</th>\n",
       "      <td>96750</td>\n",
       "      <td>2010-12-31</td>\n",
       "      <td>0</td>\n",
       "      <td>5142225701</td>\n",
       "      <td>118.75</td>\n",
       "      <td>0.543628</td>\n",
       "      <td>803.75</td>\n",
       "      <td>118.75</td>\n",
       "      <td>718.60</td>\n",
       "      <td>118.75</td>\n",
       "      <td>118.75</td>\n",
       "      <td>763.53</td>\n",
       "      <td>106.44</td>\n",
       "      <td>599.85</td>\n",
       "      <td>3140.25</td>\n",
       "      <td>118.75</td>\n",
       "      <td>474.13</td>\n",
       "      <td>718.60</td>\n",
       "      <td>8090710030950</td>\n",
       "      <td>0.001498</td>\n",
       "    </tr>\n",
       "    <tr>\n",
       "      <th>96202</th>\n",
       "      <td>96751</td>\n",
       "      <td>2010-12-31</td>\n",
       "      <td>0</td>\n",
       "      <td>5142226486</td>\n",
       "      <td>363.56</td>\n",
       "      <td>0.762180</td>\n",
       "      <td>1501.14</td>\n",
       "      <td>363.56</td>\n",
       "      <td>363.56</td>\n",
       "      <td>2487.98</td>\n",
       "      <td>2487.98</td>\n",
       "      <td>2487.98</td>\n",
       "      <td>363.56</td>\n",
       "      <td>363.56</td>\n",
       "      <td>1689.92</td>\n",
       "      <td>363.56</td>\n",
       "      <td>263.04</td>\n",
       "      <td>363.56</td>\n",
       "      <td>4503057341100</td>\n",
       "      <td>0.005503</td>\n",
       "    </tr>\n",
       "    <tr>\n",
       "      <th>96203</th>\n",
       "      <td>96752</td>\n",
       "      <td>2010-12-31</td>\n",
       "      <td>0</td>\n",
       "      <td>5142244619</td>\n",
       "      <td>2202.03</td>\n",
       "      <td>5.503286</td>\n",
       "      <td>2202.03</td>\n",
       "      <td>2202.03</td>\n",
       "      <td>2745.63</td>\n",
       "      <td>2312.55</td>\n",
       "      <td>2312.55</td>\n",
       "      <td>2349.95</td>\n",
       "      <td>475.33</td>\n",
       "      <td>2202.03</td>\n",
       "      <td>2202.03</td>\n",
       "      <td>2202.03</td>\n",
       "      <td>493.84</td>\n",
       "      <td>2202.03</td>\n",
       "      <td>8834000695412</td>\n",
       "      <td>0.007602</td>\n",
       "    </tr>\n",
       "    <tr>\n",
       "      <th>96204</th>\n",
       "      <td>96753</td>\n",
       "      <td>2010-12-31</td>\n",
       "      <td>0</td>\n",
       "      <td>5142243247</td>\n",
       "      <td>3864.32</td>\n",
       "      <td>9.346815</td>\n",
       "      <td>554.64</td>\n",
       "      <td>3142.52</td>\n",
       "      <td>721.80</td>\n",
       "      <td>554.64</td>\n",
       "      <td>554.64</td>\n",
       "      <td>554.64</td>\n",
       "      <td>91.36</td>\n",
       "      <td>3142.52</td>\n",
       "      <td>6457.51</td>\n",
       "      <td>554.64</td>\n",
       "      <td>62.46</td>\n",
       "      <td>3864.32</td>\n",
       "      <td>9108347680006</td>\n",
       "      <td>0.233312</td>\n",
       "    </tr>\n",
       "  </tbody>\n",
       "</table>\n",
       "</div>"
      ],
      "text/plain": [
       "       Recnum       Date  Fraud     Cardnum  \\\n",
       "96200   96749 2010-12-31      0  5142276053   \n",
       "96201   96750 2010-12-31      0  5142225701   \n",
       "96202   96751 2010-12-31      0  5142226486   \n",
       "96203   96752 2010-12-31      0  5142244619   \n",
       "96204   96753 2010-12-31      0  5142243247   \n",
       "\n",
       "       Amount_Cardnum_Merch_description_sum_7  \\\n",
       "96200                                   84.79   \n",
       "96201                                  118.75   \n",
       "96202                                  363.56   \n",
       "96203                                 2202.03   \n",
       "96204                                 3864.32   \n",
       "\n",
       "       Amount_Merchnum_actual/median_365  Amount_Cardnum_sum_1  \\\n",
       "96200                           1.000000                 84.79   \n",
       "96201                           0.543628                803.75   \n",
       "96202                           0.762180               1501.14   \n",
       "96203                           5.503286               2202.03   \n",
       "96204                           9.346815                554.64   \n",
       "\n",
       "       Amount_Cardnum_Merch_description_max_7  Amount_Cardnum_Merchnum_sum_30  \\\n",
       "96200                                   84.79                           84.79   \n",
       "96201                                  118.75                          718.60   \n",
       "96202                                  363.56                          363.56   \n",
       "96203                                 2202.03                         2745.63   \n",
       "96204                                 3142.52                          721.80   \n",
       "\n",
       "       Amount_Merchnum_max_1  Amount_Merchnum_max_3  Amount_Merchnum_max_14  \\\n",
       "96200                  84.79                  84.79                   84.79   \n",
       "96201                 118.75                 118.75                  763.53   \n",
       "96202                2487.98                2487.98                 2487.98   \n",
       "96203                2312.55                2312.55                 2349.95   \n",
       "96204                 554.64                 554.64                  554.64   \n",
       "\n",
       "       Amount_Cardnum_Merch zip_median_180  Amount_Cardnum_Merch zip_max_30  \\\n",
       "96200                                84.79                            84.79   \n",
       "96201                               106.44                           599.85   \n",
       "96202                               363.56                           363.56   \n",
       "96203                               475.33                          2202.03   \n",
       "96204                                91.36                          3142.52   \n",
       "\n",
       "       Amount_Cardnum_sum_3  Amount_Cardnum_Industry_sum_0  \\\n",
       "96200                 84.79                          84.79   \n",
       "96201               3140.25                         118.75   \n",
       "96202               1689.92                         363.56   \n",
       "96203               2202.03                        2202.03   \n",
       "96204               6457.51                         554.64   \n",
       "\n",
       "       Amount_Cardnum_median_30  Amount_Cardnum_Merch_description_sum_14  \\\n",
       "96200                     84.79                                    84.79   \n",
       "96201                    474.13                                   718.60   \n",
       "96202                    263.04                                   363.56   \n",
       "96203                    493.84                                  2202.03   \n",
       "96204                     62.46                                  3864.32   \n",
       "\n",
       "            Merchnum      Prob  \n",
       "96200  3500000006160  0.000470  \n",
       "96201  8090710030950  0.001498  \n",
       "96202  4503057341100  0.005503  \n",
       "96203  8834000695412  0.007602  \n",
       "96204  9108347680006  0.233312  "
      ]
     },
     "execution_count": 30,
     "metadata": {},
     "output_type": "execute_result"
    }
   ],
   "source": [
    "oot_trans.tail()"
   ]
  },
  {
   "cell_type": "code",
   "execution_count": 31,
   "metadata": {
    "ExecuteTime": {
     "end_time": "2021-05-05T17:06:17.165026Z",
     "start_time": "2021-05-05T17:06:17.159788Z"
    },
    "hidden": true
   },
   "outputs": [],
   "source": [
    "trans = oot_trans.copy()\n",
    "# trans['Date'] = mydata['Date']\n",
    "# trans['Merchnum'] = mydata['Merchnum']\n",
    "# trans['Cardnum'] = mydata['Cardnum']"
   ]
  },
  {
   "cell_type": "code",
   "execution_count": 32,
   "metadata": {
    "ExecuteTime": {
     "end_time": "2021-05-05T17:06:17.717695Z",
     "start_time": "2021-05-05T17:06:17.712930Z"
    },
    "hidden": true
   },
   "outputs": [],
   "source": [
    "import matplotlib.dates as mdates\n",
    "from matplotlib.dates import DateFormatter\n",
    "import warnings \n",
    "warnings.filterwarnings('ignore')"
   ]
  },
  {
   "cell_type": "markdown",
   "metadata": {
    "heading_collapsed": true,
    "hidden": true
   },
   "source": [
    "### Merchant"
   ]
  },
  {
   "cell_type": "code",
   "execution_count": 109,
   "metadata": {
    "ExecuteTime": {
     "end_time": "2021-05-06T14:39:01.329969Z",
     "start_time": "2021-05-06T14:39:01.060645Z"
    },
    "hidden": true,
    "scrolled": false
   },
   "outputs": [
    {
     "data": {
      "image/png": "[encoded data removed]",
      "text/plain": [
       "<Figure size 576x720 with 2 Axes>"
      ]
     },
     "metadata": {
      "needs_background": "light"
     },
     "output_type": "display_data"
    }
   ],
   "source": [
    "merchnum = \"4353000719908\"\n",
    "merch = trans[trans['Merchnum'] == merchnum]\n",
    "merch = merch[(merch[\"Date\"] >= \"2010-11-15\") & (merch[\"Date\"] < \"2010-12-01\")]\n",
    "\n",
    "merch_2 = merch.iloc[:, [0,1,-2,-1]]\n",
    "\n",
    "merch_2[\"cum_prob\"] = merch_2[\"Prob\"].expanding().mean()\n",
    "merch_2[\"count\"] = np.arange(1, merch_2.shape[0]+1)\n",
    "\n",
    "agg_merch_2 = merch_2.groupby('Date')['Prob'].agg(['count','mean','max']).reset_index()\n",
    "\n",
    "fig, ax = plt.subplots(2, 1, figsize=(8, 10))\n",
    "\n",
    "ax[0].plot(merch_2['Date'], merch_2['Prob'])\n",
    "\n",
    "date_form = DateFormatter(\"%m-%d\")\n",
    "ax[0].xaxis.set_major_formatter(date_form)\n",
    "ax[0].xaxis.set_major_locator(mdates.DayLocator(interval=1))\n",
    "\n",
    "ax[0].set_ylabel(\"Fraud Score\")\n",
    "\n",
    "ax[1].plot(merch_2['count'], merch_2['Prob'])\n",
    "\n",
    "ax[1].set_xlabel(\"Transaction Count with the Merchant\")\n",
    "ax[1].set_ylabel(\"Fraud Score\")\n",
    "\n",
    "plt.setp(ax[0].xaxis.get_majorticklabels(), rotation=45)\n",
    "\n",
    "fig.subplots_adjust(top=0.95, hspace=0.25)\n",
    "fig.suptitle(f\"Plots for Merchant {merchnum}\", size=20)    \n",
    "    \n",
    "# fig.savefig(\"Merch_2.png\")\n",
    "fig.show()"
   ]
  },
  {
   "cell_type": "markdown",
   "metadata": {
    "heading_collapsed": true,
    "hidden": true
   },
   "source": [
    "### Cardnum"
   ]
  },
  {
   "cell_type": "code",
   "execution_count": 110,
   "metadata": {
    "ExecuteTime": {
     "end_time": "2021-05-06T14:39:14.051003Z",
     "start_time": "2021-05-06T14:39:13.709080Z"
    },
    "hidden": true,
    "scrolled": false
   },
   "outputs": [
    {
     "data": {
      "image/png": "[encoded data removed]",
      "text/plain": [
       "<Figure size 576x720 with 2 Axes>"
      ]
     },
     "metadata": {
      "needs_background": "light"
     },
     "output_type": "display_data"
    }
   ],
   "source": [
    "cardnum = 5142187452\n",
    "card = trans[trans['Cardnum'] == cardnum]\n",
    "card = card[(card[\"Date\"] >= \"2010-11-03\") & (card[\"Date\"] < \"2010-12-01\")]\n",
    "\n",
    "card_2 = card.iloc[:, [0,1,3,-1]]\n",
    "\n",
    "card_2[\"cum_prob\"] = card_2[\"Prob\"].expanding().mean()\n",
    "card_2[\"count\"] = np.arange(1, card_2.shape[0]+1)\n",
    "\n",
    "agg_card_2 = card_2.groupby('Date')['Prob'].agg(['count','mean']).reset_index()\n",
    "\n",
    "fig, ax = plt.subplots(2, 1, figsize=(8, 10))\n",
    "\n",
    "ax[0].plot(card_2['Date'], card_2['Prob'])\n",
    "\n",
    "date_form = DateFormatter(\"%m-%d\")\n",
    "ax[0].xaxis.set_major_formatter(date_form)\n",
    "ax[0].xaxis.set_major_locator(mdates.DayLocator(interval=1))\n",
    "\n",
    "ax[0].set_ylabel(\"Fraud Score\")\n",
    "\n",
    "ax[1].plot(card_2['count'], card_2['Prob'])\n",
    "\n",
    "ax[1].set_xlabel(\"Transaction Count with the Card\")\n",
    "ax[1].set_ylabel(\"Fraud Score\")\n",
    "\n",
    "plt.setp(ax[0].xaxis.get_majorticklabels(), rotation=45)\n",
    "\n",
    "fig.subplots_adjust(top=0.95, hspace=0.25)\n",
    "fig.suptitle(f\"Plots for Cardnum {cardnum}\", size=20)    \n",
    "    \n",
    "fig.savefig(\"Card_2.png\")\n",
    "# fig.show()"
   ]
  }
 ],
 "metadata": {
  "kernelspec": {
   "display_name": "Python 3",
   "language": "python",
   "name": "python3"
  },
  "language_info": {
   "codemirror_mode": {
    "name": "ipython",
    "version": 3
   },
   "file_extension": ".py",
   "mimetype": "text/x-python",
   "name": "python",
   "nbconvert_exporter": "python",
   "pygments_lexer": "ipython3",
   "version": "3.8.3"
  },
  "varInspector": {
   "cols": {
    "lenName": 16,
    "lenType": 16,
    "lenVar": 40
   },
   "kernels_config": {
    "python": {
     "delete_cmd_postfix": "",
     "delete_cmd_prefix": "del ",
     "library": "var_list.py",
     "varRefreshCmd": "print(var_dic_list())"
    },
    "r": {
     "delete_cmd_postfix": ") ",
     "delete_cmd_prefix": "rm(",
     "library": "var_list.r",
     "varRefreshCmd": "cat(var_dic_list()) "
    }
   },
   "types_to_exclude": [
    "module",
    "function",
    "builtin_function_or_method",
    "instance",
    "_Feature"
   ],
   "window_display": false
  }
 },
 "nbformat": 4,
 "nbformat_minor": 5
}
