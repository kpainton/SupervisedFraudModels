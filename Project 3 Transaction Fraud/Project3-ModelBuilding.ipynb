{
 "cells": [
  {
   "cell_type": "code",
   "execution_count": 5,
   "id": "square-depth",
   "metadata": {},
   "outputs": [],
   "source": [
    "import pandas as pd\n",
    "from sklearn.preprocessing import MinMaxScaler\n",
    "from sklearn.model_selection import train_test_split\n",
    "from keras.metrics import AUC\n",
    "from keras.models import Sequential\n",
    "from keras.layers import Dense\n",
    "from sklearn.ensemble import RandomForestClassifier\n",
    "from xgboost import XGBClassifier"
   ]
  },
  {
   "cell_type": "code",
   "execution_count": 6,
   "id": "limiting-african",
   "metadata": {},
   "outputs": [],
   "source": [
    "def findFDR(y_label, y_pred):\n",
    "\n",
    "    data = pd.DataFrame({'Actual':y_label, 'PredictedProb':y_pred})\n",
    "    topRows = int(round(len(data)*0.03))\n",
    "    temp0 = data.sort_values('PredictedProb',ascending=False)\n",
    "    temp1 = temp0.head(topRows)\n",
    "    numbads = sum(temp0.loc[:, 'Actual'])\n",
    "    needed1 = temp1.loc[:,'Actual']\n",
    "    FDR1 = sum(needed1)/numbads * 100\n",
    "    print('FDR at 3% rate: ', round(FDR1, 2))"
   ]
  },
  {
   "cell_type": "code",
   "execution_count": 7,
   "id": "auburn-passage",
   "metadata": {},
   "outputs": [],
   "source": [
    "data = pd.read_csv('CreditCardFraudDataVFinal.csv', parse_dates = ['Date'])"
   ]
  },
  {
   "cell_type": "code",
   "execution_count": 8,
   "id": "moved-travel",
   "metadata": {},
   "outputs": [],
   "source": [
    "oot = data.loc[data['Date'] > '2010-10-31']\n",
    "traintest = data.loc[(data['Date'] <= '2010-10-31') & (data['Date'] >= '2010-01-14')]\n",
    "X = traintest.drop(['Recnum', 'Date', 'Fraud', 'Cardnum', 'Merchnum'], axis = 1)\n",
    "y = traintest['Fraud']\n",
    "ootX = oot.drop(['Recnum', 'Date', 'Fraud', 'Cardnum', 'Merchnum'], axis = 1)\n",
    "ootY = oot['Fraud']"
   ]
  },
  {
   "cell_type": "code",
   "execution_count": null,
   "id": "three-start",
   "metadata": {},
   "outputs": [],
   "source": [
    "# Normalizes (z-scale) the paratio and rm values\n",
    "mms = MinMaxScaler()\n",
    "\n",
    "X = mms.fit_transform(X)\n",
    "ootX = mms.fit_transform(ootX)"
   ]
  },
  {
   "cell_type": "markdown",
   "id": "prescription-chair",
   "metadata": {},
   "source": [
    "# Sampling Data"
   ]
  },
  {
   "cell_type": "code",
   "execution_count": 9,
   "id": "split-diary",
   "metadata": {},
   "outputs": [],
   "source": [
    "X_train, X_test, y_train, y_test = train_test_split(X, y, test_size=0.25)"
   ]
  },
  {
   "cell_type": "markdown",
   "id": "consistent-synthetic",
   "metadata": {},
   "source": [
    "# Logistic Regression"
   ]
  },
  {
   "cell_type": "code",
   "execution_count": 10,
   "id": "union-healing",
   "metadata": {},
   "outputs": [
    {
     "name": "stderr",
     "output_type": "stream",
     "text": [
      "/Users/kpainton/opt/anaconda3/lib/python3.7/site-packages/sklearn/svm/_base.py:986: ConvergenceWarning: Liblinear failed to converge, increase the number of iterations.\n",
      "  \"the number of iterations.\", ConvergenceWarning)\n"
     ]
    }
   ],
   "source": [
    "from sklearn.linear_model import LogisticRegression\n",
    "model = LogisticRegression(solver = 'liblinear').fit(X_train, y_train)"
   ]
  },
  {
   "cell_type": "code",
   "execution_count": 11,
   "id": "arbitrary-style",
   "metadata": {},
   "outputs": [
    {
     "name": "stdout",
     "output_type": "stream",
     "text": [
      "FDR at 3% rate:  39.76\n"
     ]
    }
   ],
   "source": [
    "y_pred = model.predict_proba(X_train)\n",
    "findFDR(y_train, y_pred[:,1])"
   ]
  },
  {
   "cell_type": "code",
   "execution_count": 12,
   "id": "rental-process",
   "metadata": {},
   "outputs": [
    {
     "name": "stdout",
     "output_type": "stream",
     "text": [
      "FDR at 3% rate:  45.45\n"
     ]
    }
   ],
   "source": [
    "y_pred = model.predict_proba(X_test)\n",
    "findFDR(y_test, y_pred[:,1])"
   ]
  },
  {
   "cell_type": "code",
   "execution_count": 13,
   "id": "tutorial-speed",
   "metadata": {},
   "outputs": [
    {
     "name": "stdout",
     "output_type": "stream",
     "text": [
      "FDR at 3% rate:  18.99\n"
     ]
    }
   ],
   "source": [
    "y_pred = model.predict_proba(ootX)\n",
    "findFDR(ootY, y_pred[:,1])"
   ]
  },
  {
   "cell_type": "markdown",
   "id": "devoted-revolution",
   "metadata": {},
   "source": [
    "# Random Forest"
   ]
  },
  {
   "cell_type": "code",
   "execution_count": 14,
   "id": "cordless-benjamin",
   "metadata": {},
   "outputs": [],
   "source": [
    "def RunForest(trees,depth, min_sample, criterion, X, y): \n",
    "    model = RandomForestClassifier(n_estimators = trees,\n",
    "                                   min_samples_split = min_sample, \n",
    "                                   max_depth = depth,\n",
    "                                  ).fit(\n",
    "        X, y)\n",
    "    y_pred = model.predict_proba(X_train)\n",
    "    print(\"Train\")\n",
    "    findFDR(y_train, y_pred[:,1])\n",
    "    y_pred = model.predict_proba(X_test)\n",
    "    print('Test')\n",
    "    findFDR(y_test, y_pred[:,1])\n",
    "    y_pred = model.predict_proba(ootX)\n",
    "    print('OOT')\n",
    "    findFDR(ootY, y_pred[:,1])"
   ]
  },
  {
   "cell_type": "code",
   "execution_count": null,
   "id": "numerous-setup",
   "metadata": {},
   "outputs": [
    {
     "name": "stdout",
     "output_type": "stream",
     "text": [
      "Train\n",
      "FDR at 3% rate:  96.5\n",
      "Test\n",
      "FDR at 3% rate:  84.94\n",
      "OOT\n",
      "FDR at 3% rate:  49.16\n",
      "Train\n",
      "FDR at 3% rate:  95.97\n",
      "Test\n",
      "FDR at 3% rate:  86.87\n",
      "OOT\n",
      "FDR at 3% rate:  50.28\n",
      "Train\n",
      "FDR at 3% rate:  96.11\n",
      "Test\n",
      "FDR at 3% rate:  84.51\n",
      "OOT\n",
      "FDR at 3% rate:  48.6\n",
      "Train\n",
      "FDR at 3% rate:  94.31\n",
      "Test\n",
      "FDR at 3% rate:  87.43\n",
      "OOT\n",
      "FDR at 3% rate:  47.49\n",
      "Train\n",
      "FDR at 3% rate:  94.7\n",
      "Test\n",
      "FDR at 3% rate:  88.89\n",
      "OOT\n",
      "FDR at 3% rate:  48.6\n"
     ]
    }
   ],
   "source": [
    "for i in range(10):\n",
    "    X_train, X_test, y_train, y_test = train_test_split(X, y, test_size=0.25)\n",
    "    RunForest(100, 15, 200, 'gini', X_train, y_train)"
   ]
  },
  {
   "cell_type": "code",
   "execution_count": null,
   "id": "standing-equality",
   "metadata": {},
   "outputs": [],
   "source": [
    "RunForest(150, 10, 200, 'entorpy', X_train, y_train)"
   ]
  },
  {
   "cell_type": "code",
   "execution_count": null,
   "id": "looking-actress",
   "metadata": {},
   "outputs": [],
   "source": [
    "RunForest(150, 25, 300, 'entorpy', X_train, y_train)"
   ]
  },
  {
   "cell_type": "code",
   "execution_count": null,
   "id": "scientific-commission",
   "metadata": {},
   "outputs": [],
   "source": [
    "RunForest(150, 30, 400, 'entorpy', X_train, y_train)"
   ]
  },
  {
   "cell_type": "code",
   "execution_count": null,
   "id": "wired-rental",
   "metadata": {},
   "outputs": [],
   "source": [
    "RunForest(100, 20, 400, 'gini', X_train, y_train)"
   ]
  },
  {
   "cell_type": "code",
   "execution_count": null,
   "id": "fitted-transition",
   "metadata": {},
   "outputs": [],
   "source": [
    "RunForest(50, 25, 300, 'gini', X_train, y_train)"
   ]
  },
  {
   "cell_type": "code",
   "execution_count": null,
   "id": "fourth-hearing",
   "metadata": {},
   "outputs": [],
   "source": [
    "RunForest(50, 25, 300, 'gini', X_train, y_train)"
   ]
  },
  {
   "cell_type": "markdown",
   "id": "valuable-region",
   "metadata": {},
   "source": [
    "# Boosted Trees"
   ]
  },
  {
   "cell_type": "code",
   "execution_count": null,
   "id": "cellular-sword",
   "metadata": {},
   "outputs": [],
   "source": [
    "# XGBoost"
   ]
  },
  {
   "cell_type": "code",
   "execution_count": null,
   "id": "cognitive-basin",
   "metadata": {},
   "outputs": [],
   "source": [
    "xgbs = XGBClassifier(n_jobs =  8, eta = 0.02, \n",
    "                     max_depth = 3, \n",
    "                     n_estimators = 400, subsample = 1,\n",
    "                     eval_metric = 'auc')\n",
    "model = xgbs.fit(X_train, y_train)"
   ]
  },
  {
   "cell_type": "code",
   "execution_count": null,
   "id": "chemical-dietary",
   "metadata": {},
   "outputs": [],
   "source": [
    "y_pred = model.predict_proba(X_train)\n",
    "print('Train')\n",
    "findFDR(y_train, y_pred[:,1])"
   ]
  },
  {
   "cell_type": "code",
   "execution_count": null,
   "id": "accepting-rolling",
   "metadata": {},
   "outputs": [],
   "source": [
    "y_pred = model.predict_proba(X_test)\n",
    "print('Test')\n",
    "findFDR(y_test, y_pred[:,1])"
   ]
  },
  {
   "cell_type": "code",
   "execution_count": null,
   "id": "electrical-greek",
   "metadata": {},
   "outputs": [],
   "source": [
    "y_pred = model.predict_proba(ootX)\n",
    "print('OOT')\n",
    "findFDR(ootY, y_pred[:,1])"
   ]
  },
  {
   "cell_type": "code",
   "execution_count": null,
   "id": "spatial-invitation",
   "metadata": {},
   "outputs": [],
   "source": []
  }
 ],
 "metadata": {
  "kernelspec": {
   "display_name": "Python 3",
   "language": "python",
   "name": "python3"
  },
  "language_info": {
   "codemirror_mode": {
    "name": "ipython",
    "version": 3
   },
   "file_extension": ".py",
   "mimetype": "text/x-python",
   "name": "python",
   "nbconvert_exporter": "python",
   "pygments_lexer": "ipython3",
   "version": "3.7.6"
  }
 },
 "nbformat": 4,
 "nbformat_minor": 5
}
